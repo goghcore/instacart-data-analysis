{
 "cells": [
  {
   "attachments": {},
   "cell_type": "markdown",
   "id": "91ad79c6",
   "metadata": {},
   "source": [
    "# <a id='toc1_'></a>[Libraries Import & Python Data Types](#toc0_)"
   ]
  },
  {
   "attachments": {},
   "cell_type": "markdown",
   "id": "f6ae6034",
   "metadata": {},
   "source": [
    "**Table of contents**<a id='toc0_'></a>    \n",
    "- [Libraries Import & Python Data Types](#toc1_)    \n",
    "  - [Import libraries](#toc1_1_)    \n",
    "  - [Data types](#toc1_2_)    \n",
    "    - [Code 3 different ways of reaching a result of 100 by adding or subtracting numeric variables](#toc1_2_1_)    \n",
    "    - [Code 2 floating-point variables and divide them by each other](#toc1_2_2_)    \n",
    "    - [Construct a short word made of separate strings](#toc1_2_3_)    \n",
    "    - [Construct 2 short sentences made of separate strings](#toc1_2_4_)    \n",
    "\n",
    "<!-- vscode-jupyter-toc-config\n",
    "\tnumbering=false\n",
    "\tanchor=true\n",
    "\tflat=false\n",
    "\tminLevel=1\n",
    "\tmaxLevel=6\n",
    "\t/vscode-jupyter-toc-config -->\n",
    "<!-- THIS CELL WILL BE REPLACED ON TOC UPDATE. DO NOT WRITE YOUR TEXT IN THIS CELL -->"
   ]
  },
  {
   "cell_type": "markdown",
   "metadata": {},
   "source": [
    "## <a id='toc1_1_'></a>[Import libraries](#toc0_)"
   ]
  },
  {
   "cell_type": "code",
   "execution_count": null,
   "id": "ee667d00",
   "metadata": {},
   "outputs": [],
   "source": [
    "# import libraties\n",
    "import numpy as np\n",
    "import pandas as pd\n",
    "import os"
   ]
  },
  {
   "cell_type": "markdown",
   "id": "bd07ac78",
   "metadata": {},
   "source": [
    "## <a id='toc1_2_'></a>[Data types](#toc0_)"
   ]
  },
  {
   "cell_type": "markdown",
   "metadata": {},
   "source": [
    "### <a id='toc1_2_1_'></a>[Code 3 different ways of reaching a result of 100 by adding or subtracting numeric variables](#toc0_)"
   ]
  },
  {
   "cell_type": "code",
   "execution_count": 2,
   "id": "ecb70867",
   "metadata": {},
   "outputs": [],
   "source": [
    "#1\n",
    "x = 50\n",
    "y = 50\n",
    "result_1 = x + y"
   ]
  },
  {
   "cell_type": "code",
   "execution_count": 3,
   "id": "9faa0b92",
   "metadata": {},
   "outputs": [
    {
     "data": {
      "text/plain": [
       "100"
      ]
     },
     "execution_count": 3,
     "metadata": {},
     "output_type": "execute_result"
    }
   ],
   "source": [
    "result_1"
   ]
  },
  {
   "cell_type": "code",
   "execution_count": 4,
   "id": "f515503e",
   "metadata": {},
   "outputs": [],
   "source": [
    "#2\n",
    "x = 175\n",
    "y = 75\n",
    "result_2 = x - y"
   ]
  },
  {
   "cell_type": "code",
   "execution_count": 5,
   "id": "962df283",
   "metadata": {},
   "outputs": [
    {
     "data": {
      "text/plain": [
       "100"
      ]
     },
     "execution_count": 5,
     "metadata": {},
     "output_type": "execute_result"
    }
   ],
   "source": [
    "result_2"
   ]
  },
  {
   "cell_type": "code",
   "execution_count": 6,
   "id": "9c68ade4",
   "metadata": {},
   "outputs": [],
   "source": [
    "#3\n",
    "x = 10\n",
    "y = 10\n",
    "result_3 = x * y"
   ]
  },
  {
   "cell_type": "code",
   "execution_count": 7,
   "id": "4b7e99ba",
   "metadata": {},
   "outputs": [
    {
     "data": {
      "text/plain": [
       "100"
      ]
     },
     "execution_count": 7,
     "metadata": {},
     "output_type": "execute_result"
    }
   ],
   "source": [
    "result_3"
   ]
  },
  {
   "cell_type": "markdown",
   "metadata": {},
   "source": [
    "### <a id='toc1_2_2_'></a>[Code 2 floating-point variables and divide them by each other](#toc0_)"
   ]
  },
  {
   "cell_type": "code",
   "execution_count": 8,
   "id": "7a11422e",
   "metadata": {},
   "outputs": [],
   "source": [
    "# Code 2 floating-point variables and divide them by each other\n",
    "x = 5.8\n",
    "y = 9.45\n",
    "result_4 = x/y"
   ]
  },
  {
   "cell_type": "code",
   "execution_count": 9,
   "id": "80d36bbd",
   "metadata": {},
   "outputs": [
    {
     "data": {
      "text/plain": [
       "0.6137566137566138"
      ]
     },
     "execution_count": 9,
     "metadata": {},
     "output_type": "execute_result"
    }
   ],
   "source": [
    "result_4"
   ]
  },
  {
   "cell_type": "markdown",
   "metadata": {},
   "source": [
    "### <a id='toc1_2_3_'></a>[Construct a short word made of separate strings](#toc0_)"
   ]
  },
  {
   "cell_type": "code",
   "execution_count": 10,
   "id": "c6ae554a",
   "metadata": {},
   "outputs": [],
   "source": [
    "# Construct a short word made of separate strings\n",
    "x = 'Play'\n",
    "y = 'Chess'\n",
    "result_5 = x + ' ' + y"
   ]
  },
  {
   "cell_type": "code",
   "execution_count": 11,
   "id": "a5ce6c5e",
   "metadata": {},
   "outputs": [
    {
     "data": {
      "text/plain": [
       "'Play Chess'"
      ]
     },
     "execution_count": 11,
     "metadata": {},
     "output_type": "execute_result"
    }
   ],
   "source": [
    "result_5"
   ]
  },
  {
   "cell_type": "markdown",
   "metadata": {},
   "source": [
    "### <a id='toc1_2_4_'></a>[Construct 2 short sentences made of separate strings](#toc0_)"
   ]
  },
  {
   "cell_type": "code",
   "execution_count": 14,
   "id": "74e72fb1",
   "metadata": {},
   "outputs": [],
   "source": [
    "# Construct 2 short sentences made of separate strings\n",
    "x = 'What did the fish say when it hit the wall?'\n",
    "y = 'Dam!'\n",
    "result_6 = x + ' ' + y"
   ]
  },
  {
   "cell_type": "code",
   "execution_count": 15,
   "id": "624b2df0",
   "metadata": {},
   "outputs": [
    {
     "data": {
      "text/plain": [
       "'What did the fish say when it hit the wall? Dam!'"
      ]
     },
     "execution_count": 15,
     "metadata": {},
     "output_type": "execute_result"
    }
   ],
   "source": [
    "result_6"
   ]
  }
 ],
 "metadata": {
  "kernelspec": {
   "display_name": "Python 3",
   "language": "python",
   "name": "python3"
  },
  "language_info": {
   "codemirror_mode": {
    "name": "ipython",
    "version": 3
   },
   "file_extension": ".py",
   "mimetype": "text/x-python",
   "name": "python",
   "nbconvert_exporter": "python",
   "pygments_lexer": "ipython3",
   "version": "3.11.0"
  },
  "vscode": {
   "interpreter": {
    "hash": "5238573367df39f7286bb46f9ff5f08f63a01a80960060ce41e3c79b190280fa"
   }
  }
 },
 "nbformat": 4,
 "nbformat_minor": 5
}
