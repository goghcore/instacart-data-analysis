{
 "cells": [
  {
   "cell_type": "markdown",
   "metadata": {},
   "source": [
    "# <a id='toc1_'></a>[Final Report (2 of 3)](#toc0_)"
   ]
  },
  {
   "cell_type": "markdown",
   "metadata": {},
   "source": [
    "**Table of contents**<a id='toc0_'></a>    \n",
    "- [Final Report (2 of 3)](#toc1_)    \n",
    "  - [II. Data Analysis](#toc1_1_)    \n",
    "    - [II.3. Customer profiling](#toc1_1_1_)    \n",
    "      - [II.3.1. Create a profiling variable based on age, income, family status, number of dependants and certain goods in the 'department_id' column](#toc1_1_1_1_)    \n",
    "        - [II.3.1.4. Customer segmentation based on their ordered goods in the 'department_id' column](#toc1_1_1_1_1_)    \n",
    "  - [IV. Data Export](#toc1_2_)    \n",
    "\n",
    "<!-- vscode-jupyter-toc-config\n",
    "\tnumbering=false\n",
    "\tanchor=true\n",
    "\tflat=false\n",
    "\tminLevel=1\n",
    "\tmaxLevel=6\n",
    "\t/vscode-jupyter-toc-config -->\n",
    "<!-- THIS CELL WILL BE REPLACED ON TOC UPDATE. DO NOT WRITE YOUR TEXT IN THIS CELL -->"
   ]
  },
  {
   "cell_type": "code",
   "execution_count": 1,
   "metadata": {},
   "outputs": [],
   "source": [
    "# import libraries\n",
    "import pandas as pd\n",
    "import numpy as np\n",
    "import os\n",
    "import matplotlib.pyplot as plt\n",
    "import matplotlib.ticker as ticker\n",
    "import seaborn as sns\n",
    "import scipy"
   ]
  },
  {
   "cell_type": "code",
   "execution_count": 2,
   "metadata": {},
   "outputs": [],
   "source": [
    "# create a path to the directory\n",
    "path = r'C:\\Users\\Ansgar.S\\Uyen\\OneDrive\\Documents\\Data Immersion\\Achievement IV - Python Fundamentals for Data Analysts\\02-2023 Instacart Basket Analysis'\n",
    "\n",
    "# import the 'orders_products_secured_high_activity.pkl' dataset\n",
    "df_secured_high_activity = pd.read_pickle(os.path.join(path, '02 Data', 'Prepared Data', 'orders_products_secured_high_activity.pkl'))\n",
    "\n",
    "# import the 'departments_wrangled.csv' dataset\n",
    "df_deps = pd.read_csv(os.path.join(path, '02 Data', 'Prepared Data', 'departments_wrangled.csv'))"
   ]
  },
  {
   "cell_type": "markdown",
   "metadata": {},
   "source": [
    "## <a id='toc1_1_'></a>[II. Data Analysis](#toc0_)"
   ]
  },
  {
   "cell_type": "markdown",
   "metadata": {},
   "source": [
    "### <a id='toc1_1_1_'></a>[II.3. Customer profiling](#toc0_)"
   ]
  },
  {
   "cell_type": "markdown",
   "metadata": {},
   "source": [
    "#### <a id='toc1_1_1_1_'></a>[II.3.1. Create a profiling variable based on age, income, family status, number of dependants and certain goods in the 'department_id' column](#toc0_)"
   ]
  },
  {
   "cell_type": "markdown",
   "metadata": {},
   "source": [
    "##### <a id='toc1_1_1_1_1_'></a>[II.3.1.4. Customer segmentation based on their ordered goods in the 'department_id' column](#toc0_)"
   ]
  },
  {
   "cell_type": "code",
   "execution_count": 4,
   "metadata": {},
   "outputs": [],
   "source": [
    "# make sure pandas display all columns\n",
    "pd.set_option('display.max_columns', None)"
   ]
  },
  {
   "cell_type": "code",
   "execution_count": 3,
   "metadata": {},
   "outputs": [
    {
     "name": "stdout",
     "output_type": "stream",
     "text": [
      "Sample output of df_secured_high_activity:\n"
     ]
    },
    {
     "data": {
      "text/html": [
       "<div>\n",
       "<style scoped>\n",
       "    .dataframe tbody tr th:only-of-type {\n",
       "        vertical-align: middle;\n",
       "    }\n",
       "\n",
       "    .dataframe tbody tr th {\n",
       "        vertical-align: top;\n",
       "    }\n",
       "\n",
       "    .dataframe thead th {\n",
       "        text-align: right;\n",
       "    }\n",
       "</style>\n",
       "<table border=\"1\" class=\"dataframe\">\n",
       "  <thead>\n",
       "    <tr style=\"text-align: right;\">\n",
       "      <th></th>\n",
       "      <th>product_id</th>\n",
       "      <th>product_name</th>\n",
       "      <th>aisle_id</th>\n",
       "      <th>department_id</th>\n",
       "      <th>prices</th>\n",
       "      <th>order_id</th>\n",
       "      <th>user_id</th>\n",
       "      <th>order_number</th>\n",
       "      <th>orders_day_of_week</th>\n",
       "      <th>order_hour_of_day</th>\n",
       "      <th>...</th>\n",
       "      <th>age</th>\n",
       "      <th>date_joined</th>\n",
       "      <th>number_of_dependants</th>\n",
       "      <th>family_status</th>\n",
       "      <th>income</th>\n",
       "      <th>region</th>\n",
       "      <th>low_activity_flag</th>\n",
       "      <th>age_bracket</th>\n",
       "      <th>income_bracket</th>\n",
       "      <th>family_type</th>\n",
       "    </tr>\n",
       "  </thead>\n",
       "  <tbody>\n",
       "    <tr>\n",
       "      <th>4024993</th>\n",
       "      <td>6348</td>\n",
       "      <td>Mini Original Babybel Cheese</td>\n",
       "      <td>21</td>\n",
       "      <td>16</td>\n",
       "      <td>11.8</td>\n",
       "      <td>1428546</td>\n",
       "      <td>60049</td>\n",
       "      <td>5</td>\n",
       "      <td>6</td>\n",
       "      <td>20</td>\n",
       "      <td>...</td>\n",
       "      <td>75</td>\n",
       "      <td>5/23/2019</td>\n",
       "      <td>2</td>\n",
       "      <td>married</td>\n",
       "      <td>104271</td>\n",
       "      <td>Midwest</td>\n",
       "      <td>High activity</td>\n",
       "      <td>Senior</td>\n",
       "      <td>High income</td>\n",
       "      <td>Married with children</td>\n",
       "    </tr>\n",
       "    <tr>\n",
       "      <th>26236694</th>\n",
       "      <td>35321</td>\n",
       "      <td>Organic Lowfat Milk</td>\n",
       "      <td>84</td>\n",
       "      <td>16</td>\n",
       "      <td>5.1</td>\n",
       "      <td>2363720</td>\n",
       "      <td>182981</td>\n",
       "      <td>5</td>\n",
       "      <td>0</td>\n",
       "      <td>12</td>\n",
       "      <td>...</td>\n",
       "      <td>22</td>\n",
       "      <td>12/8/2019</td>\n",
       "      <td>2</td>\n",
       "      <td>married</td>\n",
       "      <td>77809</td>\n",
       "      <td>South</td>\n",
       "      <td>High activity</td>\n",
       "      <td>Young adult</td>\n",
       "      <td>Upper-middle income</td>\n",
       "      <td>Married with children</td>\n",
       "    </tr>\n",
       "    <tr>\n",
       "      <th>16188837</th>\n",
       "      <td>17600</td>\n",
       "      <td>YoKids Squeezers Organic Low-Fat Yogurt, Straw...</td>\n",
       "      <td>120</td>\n",
       "      <td>16</td>\n",
       "      <td>14.1</td>\n",
       "      <td>3167230</td>\n",
       "      <td>153631</td>\n",
       "      <td>3</td>\n",
       "      <td>0</td>\n",
       "      <td>8</td>\n",
       "      <td>...</td>\n",
       "      <td>45</td>\n",
       "      <td>1/30/2017</td>\n",
       "      <td>0</td>\n",
       "      <td>single</td>\n",
       "      <td>45287</td>\n",
       "      <td>South</td>\n",
       "      <td>High activity</td>\n",
       "      <td>Middle-aged adult</td>\n",
       "      <td>Lower-middle income</td>\n",
       "      <td>Single with no children</td>\n",
       "    </tr>\n",
       "  </tbody>\n",
       "</table>\n",
       "<p>3 rows × 36 columns</p>\n",
       "</div>"
      ],
      "text/plain": [
       "         product_id                                       product_name  \\\n",
       "4024993        6348                       Mini Original Babybel Cheese   \n",
       "26236694      35321                                Organic Lowfat Milk   \n",
       "16188837      17600  YoKids Squeezers Organic Low-Fat Yogurt, Straw...   \n",
       "\n",
       "         aisle_id department_id  prices order_id user_id  order_number  \\\n",
       "4024993        21            16    11.8  1428546   60049             5   \n",
       "26236694       84            16     5.1  2363720  182981             5   \n",
       "16188837      120            16    14.1  3167230  153631             3   \n",
       "\n",
       "          orders_day_of_week  order_hour_of_day  ...  age  date_joined  \\\n",
       "4024993                    6                 20  ...   75    5/23/2019   \n",
       "26236694                   0                 12  ...   22    12/8/2019   \n",
       "16188837                   0                  8  ...   45    1/30/2017   \n",
       "\n",
       "          number_of_dependants  family_status  income   region  \\\n",
       "4024993                      2        married  104271  Midwest   \n",
       "26236694                     2        married   77809    South   \n",
       "16188837                     0         single   45287    South   \n",
       "\n",
       "         low_activity_flag        age_bracket       income_bracket  \\\n",
       "4024993      High activity             Senior          High income   \n",
       "26236694     High activity        Young adult  Upper-middle income   \n",
       "16188837     High activity  Middle-aged adult  Lower-middle income   \n",
       "\n",
       "                      family_type  \n",
       "4024993     Married with children  \n",
       "26236694    Married with children  \n",
       "16188837  Single with no children  \n",
       "\n",
       "[3 rows x 36 columns]"
      ]
     },
     "execution_count": 3,
     "metadata": {},
     "output_type": "execute_result"
    }
   ],
   "source": [
    "# check the output of df_secured_high_activity\n",
    "print('Sample output of df_secured_high_activity:')\n",
    "df_secured_high_activity.sample(3)"
   ]
  },
  {
   "cell_type": "code",
   "execution_count": null,
   "metadata": {},
   "outputs": [
    {
     "name": "stdout",
     "output_type": "stream",
     "text": [
      "All departments:\n"
     ]
    },
    {
     "data": {
      "text/html": [
       "<div>\n",
       "<style scoped>\n",
       "    .dataframe tbody tr th:only-of-type {\n",
       "        vertical-align: middle;\n",
       "    }\n",
       "\n",
       "    .dataframe tbody tr th {\n",
       "        vertical-align: top;\n",
       "    }\n",
       "\n",
       "    .dataframe thead th {\n",
       "        text-align: right;\n",
       "    }\n",
       "</style>\n",
       "<table border=\"1\" class=\"dataframe\">\n",
       "  <thead>\n",
       "    <tr style=\"text-align: right;\">\n",
       "      <th></th>\n",
       "      <th>department_id</th>\n",
       "      <th>department</th>\n",
       "    </tr>\n",
       "  </thead>\n",
       "  <tbody>\n",
       "    <tr>\n",
       "      <th>0</th>\n",
       "      <td>1</td>\n",
       "      <td>frozen</td>\n",
       "    </tr>\n",
       "    <tr>\n",
       "      <th>1</th>\n",
       "      <td>2</td>\n",
       "      <td>other</td>\n",
       "    </tr>\n",
       "    <tr>\n",
       "      <th>2</th>\n",
       "      <td>3</td>\n",
       "      <td>bakery</td>\n",
       "    </tr>\n",
       "    <tr>\n",
       "      <th>3</th>\n",
       "      <td>4</td>\n",
       "      <td>produce</td>\n",
       "    </tr>\n",
       "    <tr>\n",
       "      <th>4</th>\n",
       "      <td>5</td>\n",
       "      <td>alcohol</td>\n",
       "    </tr>\n",
       "    <tr>\n",
       "      <th>5</th>\n",
       "      <td>6</td>\n",
       "      <td>international</td>\n",
       "    </tr>\n",
       "    <tr>\n",
       "      <th>6</th>\n",
       "      <td>7</td>\n",
       "      <td>beverages</td>\n",
       "    </tr>\n",
       "    <tr>\n",
       "      <th>7</th>\n",
       "      <td>8</td>\n",
       "      <td>pets</td>\n",
       "    </tr>\n",
       "    <tr>\n",
       "      <th>8</th>\n",
       "      <td>9</td>\n",
       "      <td>dry goods pasta</td>\n",
       "    </tr>\n",
       "    <tr>\n",
       "      <th>9</th>\n",
       "      <td>10</td>\n",
       "      <td>bulk</td>\n",
       "    </tr>\n",
       "    <tr>\n",
       "      <th>10</th>\n",
       "      <td>11</td>\n",
       "      <td>personal care</td>\n",
       "    </tr>\n",
       "    <tr>\n",
       "      <th>11</th>\n",
       "      <td>12</td>\n",
       "      <td>meat seafood</td>\n",
       "    </tr>\n",
       "    <tr>\n",
       "      <th>12</th>\n",
       "      <td>13</td>\n",
       "      <td>pantry</td>\n",
       "    </tr>\n",
       "    <tr>\n",
       "      <th>13</th>\n",
       "      <td>14</td>\n",
       "      <td>breakfast</td>\n",
       "    </tr>\n",
       "    <tr>\n",
       "      <th>14</th>\n",
       "      <td>15</td>\n",
       "      <td>canned goods</td>\n",
       "    </tr>\n",
       "    <tr>\n",
       "      <th>15</th>\n",
       "      <td>16</td>\n",
       "      <td>dairy eggs</td>\n",
       "    </tr>\n",
       "    <tr>\n",
       "      <th>16</th>\n",
       "      <td>17</td>\n",
       "      <td>household</td>\n",
       "    </tr>\n",
       "    <tr>\n",
       "      <th>17</th>\n",
       "      <td>18</td>\n",
       "      <td>babies</td>\n",
       "    </tr>\n",
       "    <tr>\n",
       "      <th>18</th>\n",
       "      <td>19</td>\n",
       "      <td>snacks</td>\n",
       "    </tr>\n",
       "    <tr>\n",
       "      <th>19</th>\n",
       "      <td>20</td>\n",
       "      <td>deli</td>\n",
       "    </tr>\n",
       "    <tr>\n",
       "      <th>20</th>\n",
       "      <td>21</td>\n",
       "      <td>missing</td>\n",
       "    </tr>\n",
       "  </tbody>\n",
       "</table>\n",
       "</div>"
      ],
      "text/plain": [
       "    department_id       department\n",
       "0               1           frozen\n",
       "1               2            other\n",
       "2               3           bakery\n",
       "3               4          produce\n",
       "4               5          alcohol\n",
       "5               6    international\n",
       "6               7        beverages\n",
       "7               8             pets\n",
       "8               9  dry goods pasta\n",
       "9              10             bulk\n",
       "10             11    personal care\n",
       "11             12     meat seafood\n",
       "12             13           pantry\n",
       "13             14        breakfast\n",
       "14             15     canned goods\n",
       "15             16       dairy eggs\n",
       "16             17        household\n",
       "17             18           babies\n",
       "18             19           snacks\n",
       "19             20             deli\n",
       "20             21          missing"
      ]
     },
     "execution_count": 45,
     "metadata": {},
     "output_type": "execute_result"
    }
   ],
   "source": [
    "# check the departments\n",
    "print('All departments:')\n",
    "df_deps"
   ]
  },
  {
   "cell_type": "code",
   "execution_count": 3,
   "metadata": {},
   "outputs": [],
   "source": [
    "# create a copy of df_secured_high_activity with only columns 'user_id', 'product_id' and 'department_id'\n",
    "df_users_deps = df_secured_high_activity[['user_id', 'product_id', 'department_id']]"
   ]
  },
  {
   "cell_type": "code",
   "execution_count": 4,
   "metadata": {},
   "outputs": [],
   "source": [
    "# change the data type of column 'department_id' in df_deps to string\n",
    "df_deps['department_id'] = df_deps['department_id'].astype('str')"
   ]
  },
  {
   "cell_type": "code",
   "execution_count": 5,
   "metadata": {},
   "outputs": [],
   "source": [
    "# create column 'department' in df_users_deps with the name of corresponding department_id\n",
    "df_users_deps = df_users_deps.merge(df_deps[['department_id', 'department']], on = 'department_id', how = 'left')"
   ]
  },
  {
   "cell_type": "code",
   "execution_count": 7,
   "metadata": {},
   "outputs": [
    {
     "name": "stdout",
     "output_type": "stream",
     "text": [
      "df_users_deps grouped by user_id and department:\n"
     ]
    },
    {
     "data": {
      "text/html": [
       "<div>\n",
       "<style scoped>\n",
       "    .dataframe tbody tr th:only-of-type {\n",
       "        vertical-align: middle;\n",
       "    }\n",
       "\n",
       "    .dataframe tbody tr th {\n",
       "        vertical-align: top;\n",
       "    }\n",
       "\n",
       "    .dataframe thead th {\n",
       "        text-align: right;\n",
       "    }\n",
       "</style>\n",
       "<table border=\"1\" class=\"dataframe\">\n",
       "  <thead>\n",
       "    <tr style=\"text-align: right;\">\n",
       "      <th></th>\n",
       "      <th>user_id</th>\n",
       "      <th>department</th>\n",
       "      <th>product_id</th>\n",
       "    </tr>\n",
       "  </thead>\n",
       "  <tbody>\n",
       "    <tr>\n",
       "      <th>0</th>\n",
       "      <td>1</td>\n",
       "      <td>beverages</td>\n",
       "      <td>13</td>\n",
       "    </tr>\n",
       "    <tr>\n",
       "      <th>1</th>\n",
       "      <td>1</td>\n",
       "      <td>breakfast</td>\n",
       "      <td>3</td>\n",
       "    </tr>\n",
       "    <tr>\n",
       "      <th>2</th>\n",
       "      <td>1</td>\n",
       "      <td>dairy eggs</td>\n",
       "      <td>13</td>\n",
       "    </tr>\n",
       "    <tr>\n",
       "      <th>3</th>\n",
       "      <td>1</td>\n",
       "      <td>household</td>\n",
       "      <td>2</td>\n",
       "    </tr>\n",
       "    <tr>\n",
       "      <th>4</th>\n",
       "      <td>1</td>\n",
       "      <td>pantry</td>\n",
       "      <td>1</td>\n",
       "    </tr>\n",
       "    <tr>\n",
       "      <th>...</th>\n",
       "      <td>...</td>\n",
       "      <td>...</td>\n",
       "      <td>...</td>\n",
       "    </tr>\n",
       "    <tr>\n",
       "      <th>1779491</th>\n",
       "      <td>99999</td>\n",
       "      <td>meat seafood</td>\n",
       "      <td>14</td>\n",
       "    </tr>\n",
       "    <tr>\n",
       "      <th>1779492</th>\n",
       "      <td>99999</td>\n",
       "      <td>missing</td>\n",
       "      <td>1</td>\n",
       "    </tr>\n",
       "    <tr>\n",
       "      <th>1779493</th>\n",
       "      <td>99999</td>\n",
       "      <td>pantry</td>\n",
       "      <td>3</td>\n",
       "    </tr>\n",
       "    <tr>\n",
       "      <th>1779494</th>\n",
       "      <td>99999</td>\n",
       "      <td>produce</td>\n",
       "      <td>129</td>\n",
       "    </tr>\n",
       "    <tr>\n",
       "      <th>1779495</th>\n",
       "      <td>99999</td>\n",
       "      <td>snacks</td>\n",
       "      <td>29</td>\n",
       "    </tr>\n",
       "  </tbody>\n",
       "</table>\n",
       "<p>1779496 rows × 3 columns</p>\n",
       "</div>"
      ],
      "text/plain": [
       "        user_id    department  product_id\n",
       "0             1     beverages          13\n",
       "1             1     breakfast           3\n",
       "2             1    dairy eggs          13\n",
       "3             1     household           2\n",
       "4             1        pantry           1\n",
       "...         ...           ...         ...\n",
       "1779491   99999  meat seafood          14\n",
       "1779492   99999       missing           1\n",
       "1779493   99999        pantry           3\n",
       "1779494   99999       produce         129\n",
       "1779495   99999        snacks          29\n",
       "\n",
       "[1779496 rows x 3 columns]"
      ]
     },
     "execution_count": 7,
     "metadata": {},
     "output_type": "execute_result"
    }
   ],
   "source": [
    "# group the data by user_id and department\n",
    "print('df_users_deps grouped by user_id and department:')\n",
    "df_users_deps.groupby(['user_id', 'department'])['product_id'].count().reset_index()"
   ]
  },
  {
   "cell_type": "markdown",
   "metadata": {},
   "source": [
    "**Observation**: There are several customer segmentations based on their purchased orders' department:\n",
    "\n",
    "- *Health-conscious shoppers*: Customers who purchase items from the produce (4) department\n",
    "- *Alcohol drinkers*: Customers who purchase alcohol (5)\n",
    "- *Pet owners*: Customers who purchase pet (8) items\n",
    "- *Meat-eaters*: Customers who purchase items from the meat and seafood (12) departments\n",
    "- *Family-oriented shoppers*: Customers who frequently buy products from the household (17) and babies (18) departments\n",
    "- *Convenience shoppers*: Customers who mainly purchase from the frozen (1), canned goods (15), snacks (19) or deli (20) departments\n",
    "- *Bulk buyers*: Customers who purchase in bulk (10)"
   ]
  },
  {
   "cell_type": "markdown",
   "metadata": {},
   "source": [
    "a. Create flag for health-conscious customers"
   ]
  },
  {
   "cell_type": "code",
   "execution_count": 6,
   "metadata": {},
   "outputs": [],
   "source": [
    "# create column 'health_conscious_shopper' in in df_users_deps based on each user's produce-related orders\n",
    "df_users_deps['health_conscious_shopper'] = np.where(df_users_deps['department'] == 'produce', 'Yes', 'No')"
   ]
  },
  {
   "cell_type": "markdown",
   "metadata": {},
   "source": [
    "b. Create flag for alcohol drinkers"
   ]
  },
  {
   "cell_type": "code",
   "execution_count": 7,
   "metadata": {},
   "outputs": [],
   "source": [
    "# create column 'alcohol_drinker' in in df_users_deps based on each user's alcohol-related orders\n",
    "df_users_deps['alcohol_drinker'] = np.where(df_users_deps['department'] == 'alcohol', 'Yes', 'No')"
   ]
  },
  {
   "cell_type": "markdown",
   "metadata": {},
   "source": [
    "c. Create flag for pet owners"
   ]
  },
  {
   "cell_type": "code",
   "execution_count": 8,
   "metadata": {},
   "outputs": [],
   "source": [
    "# create column 'pet_owner' in in df_users_deps based on each user's pets-related orders\n",
    "df_users_deps['pet_owner'] = np.where(df_users_deps['department'] == 'pets', 'Yes', 'No')"
   ]
  },
  {
   "cell_type": "markdown",
   "metadata": {},
   "source": [
    "d. Create flag for meat-eaters"
   ]
  },
  {
   "cell_type": "code",
   "execution_count": 9,
   "metadata": {},
   "outputs": [],
   "source": [
    "# create column 'meat_eater' in in df_users_deps based on each user's meat and seafood-related orders\n",
    "df_users_deps['meat_eater'] = np.where(df_users_deps['department'] == 'meat seafood', 'Yes', 'No')"
   ]
  },
  {
   "cell_type": "markdown",
   "metadata": {},
   "source": [
    "e. Create flag for family-oriented customers"
   ]
  },
  {
   "cell_type": "code",
   "execution_count": 10,
   "metadata": {},
   "outputs": [],
   "source": [
    "# create column 'family_oriented_shopper' in in df_users_deps based on each user's household & babies-related orders\n",
    "df_users_deps['family_oriented_shopper'] = np.where(df_users_deps['department'].isin(['household', 'babies']), 'Yes', 'No')"
   ]
  },
  {
   "cell_type": "markdown",
   "metadata": {},
   "source": [
    "f. Create flag for convenience shoppers"
   ]
  },
  {
   "cell_type": "code",
   "execution_count": 11,
   "metadata": {},
   "outputs": [],
   "source": [
    "# create column 'convenience_shopper' in in df_users_deps based on each user's frozen, canned goods, snacks & deli-related orders\n",
    "df_users_deps['convenience_shopper'] = np.where(df_users_deps['department'].isin(['frozen', 'canned goods', 'snacks', 'deli']), 'Yes', 'No')"
   ]
  },
  {
   "cell_type": "markdown",
   "metadata": {},
   "source": [
    "g. Create flag for bulk buyers"
   ]
  },
  {
   "cell_type": "code",
   "execution_count": 12,
   "metadata": {},
   "outputs": [],
   "source": [
    "# create column 'bulk_buyer' in in df_users_deps based on each user's bulk-related orders\n",
    "df_users_deps['bulk_buyer'] = np.where(df_users_deps['department'] == 'bulk', 'Yes', 'No')"
   ]
  },
  {
   "cell_type": "markdown",
   "metadata": {},
   "source": [
    "h. Create customer shopping behavior profiles"
   ]
  },
  {
   "cell_type": "code",
   "execution_count": 19,
   "metadata": {},
   "outputs": [
    {
     "name": "stdout",
     "output_type": "stream",
     "text": [
      "Count of the values in health_conscious_shopper grouped by user_id:\n"
     ]
    },
    {
     "data": {
      "text/html": [
       "<div>\n",
       "<style scoped>\n",
       "    .dataframe tbody tr th:only-of-type {\n",
       "        vertical-align: middle;\n",
       "    }\n",
       "\n",
       "    .dataframe tbody tr th {\n",
       "        vertical-align: top;\n",
       "    }\n",
       "\n",
       "    .dataframe thead th {\n",
       "        text-align: right;\n",
       "    }\n",
       "</style>\n",
       "<table border=\"1\" class=\"dataframe\">\n",
       "  <thead>\n",
       "    <tr style=\"text-align: right;\">\n",
       "      <th></th>\n",
       "      <th>user_id</th>\n",
       "      <th>health_conscious_shopper</th>\n",
       "    </tr>\n",
       "  </thead>\n",
       "  <tbody>\n",
       "    <tr>\n",
       "      <th>0</th>\n",
       "      <td>1</td>\n",
       "      <td>59</td>\n",
       "    </tr>\n",
       "    <tr>\n",
       "      <th>1</th>\n",
       "      <td>10</td>\n",
       "      <td>143</td>\n",
       "    </tr>\n",
       "    <tr>\n",
       "      <th>2</th>\n",
       "      <td>100</td>\n",
       "      <td>27</td>\n",
       "    </tr>\n",
       "    <tr>\n",
       "      <th>3</th>\n",
       "      <td>1000</td>\n",
       "      <td>103</td>\n",
       "    </tr>\n",
       "    <tr>\n",
       "      <th>4</th>\n",
       "      <td>10000</td>\n",
       "      <td>1092</td>\n",
       "    </tr>\n",
       "    <tr>\n",
       "      <th>...</th>\n",
       "      <td>...</td>\n",
       "      <td>...</td>\n",
       "    </tr>\n",
       "    <tr>\n",
       "      <th>153800</th>\n",
       "      <td>99994</td>\n",
       "      <td>164</td>\n",
       "    </tr>\n",
       "    <tr>\n",
       "      <th>153801</th>\n",
       "      <td>99995</td>\n",
       "      <td>50</td>\n",
       "    </tr>\n",
       "    <tr>\n",
       "      <th>153802</th>\n",
       "      <td>99996</td>\n",
       "      <td>128</td>\n",
       "    </tr>\n",
       "    <tr>\n",
       "      <th>153803</th>\n",
       "      <td>99998</td>\n",
       "      <td>21</td>\n",
       "    </tr>\n",
       "    <tr>\n",
       "      <th>153804</th>\n",
       "      <td>99999</td>\n",
       "      <td>329</td>\n",
       "    </tr>\n",
       "  </tbody>\n",
       "</table>\n",
       "<p>153805 rows × 2 columns</p>\n",
       "</div>"
      ],
      "text/plain": [
       "       user_id  health_conscious_shopper\n",
       "0            1                        59\n",
       "1           10                       143\n",
       "2          100                        27\n",
       "3         1000                       103\n",
       "4        10000                      1092\n",
       "...        ...                       ...\n",
       "153800   99994                       164\n",
       "153801   99995                        50\n",
       "153802   99996                       128\n",
       "153803   99998                        21\n",
       "153804   99999                       329\n",
       "\n",
       "[153805 rows x 2 columns]"
      ]
     },
     "execution_count": 19,
     "metadata": {},
     "output_type": "execute_result"
    }
   ],
   "source": [
    "# count the values in health_conscious_shopper in df_users_deps grouped by user_id\n",
    "print('Count of the values in health_conscious_shopper grouped by user_id:')\n",
    "df_users_deps.groupby(['user_id'])['health_conscious_shopper'].count().reset_index()"
   ]
  },
  {
   "cell_type": "code",
   "execution_count": 13,
   "metadata": {},
   "outputs": [],
   "source": [
    "# group df_users_deps by user_id and get the maximum value for each column\n",
    "df_behavior_grouped = df_users_deps.groupby('user_id').max().reset_index()"
   ]
  },
  {
   "cell_type": "code",
   "execution_count": 14,
   "metadata": {},
   "outputs": [],
   "source": [
    "# drop columns from df_behavior_grouped as only user_id and customer shopping behavior-related columns are needed for analysis\n",
    "df_behavior_grouped = df_behavior_grouped.drop(columns = ['product_id', 'department_id', 'department'])"
   ]
  },
  {
   "cell_type": "code",
   "execution_count": 17,
   "metadata": {},
   "outputs": [
    {
     "name": "stdout",
     "output_type": "stream",
     "text": [
      "Outputs of df_behavior_grouped by user_id 4:\n"
     ]
    },
    {
     "data": {
      "text/html": [
       "<div>\n",
       "<style scoped>\n",
       "    .dataframe tbody tr th:only-of-type {\n",
       "        vertical-align: middle;\n",
       "    }\n",
       "\n",
       "    .dataframe tbody tr th {\n",
       "        vertical-align: top;\n",
       "    }\n",
       "\n",
       "    .dataframe thead th {\n",
       "        text-align: right;\n",
       "    }\n",
       "</style>\n",
       "<table border=\"1\" class=\"dataframe\">\n",
       "  <thead>\n",
       "    <tr style=\"text-align: right;\">\n",
       "      <th></th>\n",
       "      <th>user_id</th>\n",
       "      <th>health_conscious_shopper</th>\n",
       "      <th>alcohol_drinker</th>\n",
       "      <th>pet_owner</th>\n",
       "      <th>meat_eater</th>\n",
       "      <th>family_oriented_shopper</th>\n",
       "      <th>convenience_shopper</th>\n",
       "      <th>bulk_buyer</th>\n",
       "    </tr>\n",
       "  </thead>\n",
       "  <tbody>\n",
       "  </tbody>\n",
       "</table>\n",
       "</div>"
      ],
      "text/plain": [
       "Empty DataFrame\n",
       "Columns: [user_id, health_conscious_shopper, alcohol_drinker, pet_owner, meat_eater, family_oriented_shopper, convenience_shopper, bulk_buyer]\n",
       "Index: []"
      ]
     },
     "execution_count": 17,
     "metadata": {},
     "output_type": "execute_result"
    }
   ],
   "source": [
    "# check the outputs of df_behavior_grouped by user_id 4\n",
    "print('Outputs of df_behavior_grouped by user_id 4:')\n",
    "df_behavior_grouped[df_behavior_grouped['user_id'] == 4]"
   ]
  },
  {
   "cell_type": "code",
   "execution_count": 18,
   "metadata": {},
   "outputs": [
    {
     "name": "stdout",
     "output_type": "stream",
     "text": [
      "Comparing to the outputs of df_users_deps by user_id 4:\n"
     ]
    },
    {
     "data": {
      "text/html": [
       "<div>\n",
       "<style scoped>\n",
       "    .dataframe tbody tr th:only-of-type {\n",
       "        vertical-align: middle;\n",
       "    }\n",
       "\n",
       "    .dataframe tbody tr th {\n",
       "        vertical-align: top;\n",
       "    }\n",
       "\n",
       "    .dataframe thead th {\n",
       "        text-align: right;\n",
       "    }\n",
       "</style>\n",
       "<table border=\"1\" class=\"dataframe\">\n",
       "  <thead>\n",
       "    <tr style=\"text-align: right;\">\n",
       "      <th></th>\n",
       "      <th>user_id</th>\n",
       "      <th>product_id</th>\n",
       "      <th>department_id</th>\n",
       "      <th>department</th>\n",
       "      <th>health_conscious_shopper</th>\n",
       "      <th>alcohol_drinker</th>\n",
       "      <th>pet_owner</th>\n",
       "      <th>meat_eater</th>\n",
       "      <th>family_oriented_shopper</th>\n",
       "      <th>convenience_shopper</th>\n",
       "      <th>bulk_buyer</th>\n",
       "    </tr>\n",
       "  </thead>\n",
       "  <tbody>\n",
       "  </tbody>\n",
       "</table>\n",
       "</div>"
      ],
      "text/plain": [
       "Empty DataFrame\n",
       "Columns: [user_id, product_id, department_id, department, health_conscious_shopper, alcohol_drinker, pet_owner, meat_eater, family_oriented_shopper, convenience_shopper, bulk_buyer]\n",
       "Index: []"
      ]
     },
     "execution_count": 18,
     "metadata": {},
     "output_type": "execute_result"
    }
   ],
   "source": [
    "# compare the output above to the outputs of df_users_deps by user_id 4\n",
    "print('Comparing to the outputs of df_users_deps by user_id 4:')\n",
    "df_users_deps[df_users_deps['user_id'] == 4]"
   ]
  },
  {
   "cell_type": "markdown",
   "metadata": {},
   "source": [
    "*Dataframe df_behavior_grouped is working as intended.*"
   ]
  },
  {
   "cell_type": "code",
   "execution_count": 15,
   "metadata": {},
   "outputs": [],
   "source": [
    "# merge df_behavior_grouped with the main dataframe df_secured_high_activity\n",
    "merged_df = pd.merge(df_secured_high_activity, df_behavior_grouped, on='user_id', how='left')"
   ]
  },
  {
   "cell_type": "code",
   "execution_count": null,
   "metadata": {},
   "outputs": [
    {
     "name": "stdout",
     "output_type": "stream",
     "text": [
      "Outputs of merged_df:\n"
     ]
    },
    {
     "data": {
      "text/html": [
       "<div>\n",
       "<style scoped>\n",
       "    .dataframe tbody tr th:only-of-type {\n",
       "        vertical-align: middle;\n",
       "    }\n",
       "\n",
       "    .dataframe tbody tr th {\n",
       "        vertical-align: top;\n",
       "    }\n",
       "\n",
       "    .dataframe thead th {\n",
       "        text-align: right;\n",
       "    }\n",
       "</style>\n",
       "<table border=\"1\" class=\"dataframe\">\n",
       "  <thead>\n",
       "    <tr style=\"text-align: right;\">\n",
       "      <th></th>\n",
       "      <th>product_id</th>\n",
       "      <th>product_name</th>\n",
       "      <th>aisle_id</th>\n",
       "      <th>department_id</th>\n",
       "      <th>prices</th>\n",
       "      <th>order_id</th>\n",
       "      <th>user_id</th>\n",
       "      <th>order_number</th>\n",
       "      <th>orders_day_of_week</th>\n",
       "      <th>order_hour_of_day</th>\n",
       "      <th>...</th>\n",
       "      <th>age_bracket</th>\n",
       "      <th>income_bracket</th>\n",
       "      <th>family_type</th>\n",
       "      <th>health_conscious_shopper</th>\n",
       "      <th>alcohol_drinker</th>\n",
       "      <th>pet_owner</th>\n",
       "      <th>meat_eater</th>\n",
       "      <th>family_oriented_shopper</th>\n",
       "      <th>convenience_shopper</th>\n",
       "      <th>bulk_buyer</th>\n",
       "    </tr>\n",
       "  </thead>\n",
       "  <tbody>\n",
       "    <tr>\n",
       "      <th>0</th>\n",
       "      <td>1</td>\n",
       "      <td>Chocolate Sandwich Cookies</td>\n",
       "      <td>61</td>\n",
       "      <td>19</td>\n",
       "      <td>5.8</td>\n",
       "      <td>3139998</td>\n",
       "      <td>138</td>\n",
       "      <td>28</td>\n",
       "      <td>6</td>\n",
       "      <td>11</td>\n",
       "      <td>...</td>\n",
       "      <td>Senior</td>\n",
       "      <td>Lower-middle income</td>\n",
       "      <td>Married with no children</td>\n",
       "      <td>Yes</td>\n",
       "      <td>No</td>\n",
       "      <td>No</td>\n",
       "      <td>Yes</td>\n",
       "      <td>Yes</td>\n",
       "      <td>Yes</td>\n",
       "      <td>Yes</td>\n",
       "    </tr>\n",
       "    <tr>\n",
       "      <th>1</th>\n",
       "      <td>1</td>\n",
       "      <td>Chocolate Sandwich Cookies</td>\n",
       "      <td>61</td>\n",
       "      <td>19</td>\n",
       "      <td>5.8</td>\n",
       "      <td>1977647</td>\n",
       "      <td>138</td>\n",
       "      <td>30</td>\n",
       "      <td>6</td>\n",
       "      <td>17</td>\n",
       "      <td>...</td>\n",
       "      <td>Senior</td>\n",
       "      <td>Lower-middle income</td>\n",
       "      <td>Married with no children</td>\n",
       "      <td>Yes</td>\n",
       "      <td>No</td>\n",
       "      <td>No</td>\n",
       "      <td>Yes</td>\n",
       "      <td>Yes</td>\n",
       "      <td>Yes</td>\n",
       "      <td>Yes</td>\n",
       "    </tr>\n",
       "    <tr>\n",
       "      <th>2</th>\n",
       "      <td>907</td>\n",
       "      <td>Premium Sliced Bacon</td>\n",
       "      <td>106</td>\n",
       "      <td>12</td>\n",
       "      <td>20.0</td>\n",
       "      <td>3160996</td>\n",
       "      <td>138</td>\n",
       "      <td>1</td>\n",
       "      <td>5</td>\n",
       "      <td>13</td>\n",
       "      <td>...</td>\n",
       "      <td>Senior</td>\n",
       "      <td>Lower-middle income</td>\n",
       "      <td>Married with no children</td>\n",
       "      <td>Yes</td>\n",
       "      <td>No</td>\n",
       "      <td>No</td>\n",
       "      <td>Yes</td>\n",
       "      <td>Yes</td>\n",
       "      <td>Yes</td>\n",
       "      <td>Yes</td>\n",
       "    </tr>\n",
       "  </tbody>\n",
       "</table>\n",
       "<p>3 rows × 43 columns</p>\n",
       "</div>"
      ],
      "text/plain": [
       "  product_id                product_name aisle_id department_id  prices  \\\n",
       "0          1  Chocolate Sandwich Cookies       61            19     5.8   \n",
       "1          1  Chocolate Sandwich Cookies       61            19     5.8   \n",
       "2        907        Premium Sliced Bacon      106            12    20.0   \n",
       "\n",
       "  order_id user_id  order_number  orders_day_of_week  order_hour_of_day  ...  \\\n",
       "0  3139998     138            28                   6                 11  ...   \n",
       "1  1977647     138            30                   6                 17  ...   \n",
       "2  3160996     138             1                   5                 13  ...   \n",
       "\n",
       "   age_bracket       income_bracket               family_type  \\\n",
       "0       Senior  Lower-middle income  Married with no children   \n",
       "1       Senior  Lower-middle income  Married with no children   \n",
       "2       Senior  Lower-middle income  Married with no children   \n",
       "\n",
       "   health_conscious_shopper alcohol_drinker pet_owner meat_eater  \\\n",
       "0                       Yes              No        No        Yes   \n",
       "1                       Yes              No        No        Yes   \n",
       "2                       Yes              No        No        Yes   \n",
       "\n",
       "  family_oriented_shopper  convenience_shopper bulk_buyer  \n",
       "0                     Yes                  Yes        Yes  \n",
       "1                     Yes                  Yes        Yes  \n",
       "2                     Yes                  Yes        Yes  \n",
       "\n",
       "[3 rows x 43 columns]"
      ]
     },
     "execution_count": 20,
     "metadata": {},
     "output_type": "execute_result"
    }
   ],
   "source": [
    "# check the outputs of merged_df\n",
    "print('Outputs of merged_df:')\n",
    "merged_df.head(3)"
   ]
  },
  {
   "cell_type": "markdown",
   "metadata": {},
   "source": [
    "## <a id='toc1_2_'></a>[IV. Data Export](#toc0_)"
   ]
  },
  {
   "cell_type": "code",
   "execution_count": null,
   "metadata": {},
   "outputs": [],
   "source": [
    "# export merged_df in .pkl format\n",
    "merged_df.to_pickle(os.path.join(path, '02 Data','Prepared Data', 'orders_products_customer_profiles_high_activity.pkl'))"
   ]
  }
 ],
 "metadata": {
  "kernelspec": {
   "display_name": "Python 3 (ipykernel)",
   "language": "python",
   "name": "python3"
  },
  "language_info": {
   "codemirror_mode": {
    "name": "ipython",
    "version": 3
   },
   "file_extension": ".py",
   "mimetype": "text/x-python",
   "name": "python",
   "nbconvert_exporter": "python",
   "pygments_lexer": "ipython3",
   "version": "3.9.13"
  },
  "vscode": {
   "interpreter": {
    "hash": "ad2bdc8ecc057115af97d19610ffacc2b4e99fae6737bb82f5d7fb13d2f2c186"
   }
  }
 },
 "nbformat": 4,
 "nbformat_minor": 2
}
