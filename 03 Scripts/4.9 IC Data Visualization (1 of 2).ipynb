{
 "cells": [
  {
   "cell_type": "markdown",
   "metadata": {},
   "source": [
    "## <a id='toc1_1_'></a>[Data Visualization (1 of 1)](#toc0_)"
   ]
  },
  {
   "cell_type": "markdown",
   "metadata": {},
   "source": [
    "**Table of contents**<a id='toc0_'></a>    \n",
    "- [Data Visualization (1 of 1)](#toc1_1_)    \n",
    "  - [I. Data Wrangling on the Customers Dataset](#toc1_2_)    \n",
    "    - [I.1. Data overview](#toc1_2_1_)    \n",
    "    - [I.2. Rename columns](#toc1_2_2_)    \n",
    "    - [I.3. Change data types of variables](#toc1_2_3_)    \n",
    "  - [II. Data Consistency Checks](#toc1_3_)    \n",
    "    - [II.1. Check for mixed-types](#toc1_3_1_)    \n",
    "    - [II.2. Check for and address missing values and duplicates](#toc1_3_2_)    \n",
    "  - [III. Data Combining with orders_products_merged_3.pkl](#toc1_4_)    \n",
    "    - [III.1. Check consistency of key columns](#toc1_4_1_)    \n",
    "    - [III.2. Merge datasets](#toc1_4_2_)    \n",
    "  - [IV. Data Export](#toc1_5_)    \n",
    "\n",
    "<!-- vscode-jupyter-toc-config\n",
    "\tnumbering=false\n",
    "\tanchor=true\n",
    "\tflat=false\n",
    "\tminLevel=1\n",
    "\tmaxLevel=6\n",
    "\t/vscode-jupyter-toc-config -->\n",
    "<!-- THIS CELL WILL BE REPLACED ON TOC UPDATE. DO NOT WRITE YOUR TEXT IN THIS CELL -->"
   ]
  },
  {
   "cell_type": "code",
   "execution_count": 1,
   "metadata": {},
   "outputs": [],
   "source": [
    "# import libraries\n",
    "import pandas as pd\n",
    "import numpy as np\n",
    "import os\n",
    "import matplotlib.pyplot as plt\n",
    "import seaborn as sns\n",
    "import scipy"
   ]
  },
  {
   "cell_type": "code",
   "execution_count": 2,
   "metadata": {},
   "outputs": [],
   "source": [
    "# create a path to the directory\n",
    "path = r'C:\\Users\\Ansgar.S\\Uyen\\OneDrive\\Documents\\Data Immersion\\Achievement IV - Python Fundamentals for Data Analysts\\02-2023 Instacart Basket Analysis'\n",
    "\n",
    "# import the 'customers.csv' dataset\n",
    "df_customers = pd.read_csv(os.path.join(path, '02 Data', 'Original Data', 'customers.csv'), index_col = False)\n",
    "\n",
    "# import the 'orders_products_merged_3.pkl' dataset\n",
    "df_ords_merged = pd.read_pickle(os.path.join(path, '02 Data', 'Prepared Data', 'orders_products_merged_3.pkl'))"
   ]
  },
  {
   "cell_type": "markdown",
   "metadata": {},
   "source": [
    "## <a id='toc1_2_'></a>[I. Data Wrangling on the Customers Dataset](#toc0_)"
   ]
  },
  {
   "cell_type": "markdown",
   "metadata": {},
   "source": [
    "### <a id='toc1_2_1_'></a>[I.1. Data overview](#toc0_)"
   ]
  },
  {
   "cell_type": "code",
   "execution_count": 3,
   "metadata": {},
   "outputs": [
    {
     "name": "stdout",
     "output_type": "stream",
     "text": [
      "Number of rows and columns in df_customers:\n"
     ]
    },
    {
     "data": {
      "text/plain": [
       "(206209, 10)"
      ]
     },
     "execution_count": 3,
     "metadata": {},
     "output_type": "execute_result"
    }
   ],
   "source": [
    "# check number of rows and columns in df_customers\n",
    "print('Number of rows and columns in df_customers:')\n",
    "df_customers.shape"
   ]
  },
  {
   "cell_type": "code",
   "execution_count": 4,
   "metadata": {},
   "outputs": [
    {
     "name": "stdout",
     "output_type": "stream",
     "text": [
      "Sample output of df_customers:\n"
     ]
    },
    {
     "data": {
      "text/html": [
       "<div>\n",
       "<style scoped>\n",
       "    .dataframe tbody tr th:only-of-type {\n",
       "        vertical-align: middle;\n",
       "    }\n",
       "\n",
       "    .dataframe tbody tr th {\n",
       "        vertical-align: top;\n",
       "    }\n",
       "\n",
       "    .dataframe thead th {\n",
       "        text-align: right;\n",
       "    }\n",
       "</style>\n",
       "<table border=\"1\" class=\"dataframe\">\n",
       "  <thead>\n",
       "    <tr style=\"text-align: right;\">\n",
       "      <th></th>\n",
       "      <th>user_id</th>\n",
       "      <th>First Name</th>\n",
       "      <th>Surnam</th>\n",
       "      <th>Gender</th>\n",
       "      <th>STATE</th>\n",
       "      <th>Age</th>\n",
       "      <th>date_joined</th>\n",
       "      <th>n_dependants</th>\n",
       "      <th>fam_status</th>\n",
       "      <th>income</th>\n",
       "    </tr>\n",
       "  </thead>\n",
       "  <tbody>\n",
       "    <tr>\n",
       "      <th>129522</th>\n",
       "      <td>137990</td>\n",
       "      <td>Diane</td>\n",
       "      <td>Valenzuela</td>\n",
       "      <td>Female</td>\n",
       "      <td>Michigan</td>\n",
       "      <td>31</td>\n",
       "      <td>1/17/2019</td>\n",
       "      <td>1</td>\n",
       "      <td>married</td>\n",
       "      <td>52642</td>\n",
       "    </tr>\n",
       "    <tr>\n",
       "      <th>44750</th>\n",
       "      <td>87406</td>\n",
       "      <td>Thomas</td>\n",
       "      <td>Humphrey</td>\n",
       "      <td>Male</td>\n",
       "      <td>Tennessee</td>\n",
       "      <td>19</td>\n",
       "      <td>9/15/2017</td>\n",
       "      <td>0</td>\n",
       "      <td>single</td>\n",
       "      <td>67348</td>\n",
       "    </tr>\n",
       "    <tr>\n",
       "      <th>63547</th>\n",
       "      <td>136021</td>\n",
       "      <td>John</td>\n",
       "      <td>Holloway</td>\n",
       "      <td>Male</td>\n",
       "      <td>Arkansas</td>\n",
       "      <td>43</td>\n",
       "      <td>1/1/2018</td>\n",
       "      <td>3</td>\n",
       "      <td>married</td>\n",
       "      <td>70158</td>\n",
       "    </tr>\n",
       "    <tr>\n",
       "      <th>125952</th>\n",
       "      <td>35924</td>\n",
       "      <td>Willie</td>\n",
       "      <td>Vasquez</td>\n",
       "      <td>Male</td>\n",
       "      <td>Maine</td>\n",
       "      <td>60</td>\n",
       "      <td>12/27/2018</td>\n",
       "      <td>3</td>\n",
       "      <td>married</td>\n",
       "      <td>46174</td>\n",
       "    </tr>\n",
       "    <tr>\n",
       "      <th>192479</th>\n",
       "      <td>70495</td>\n",
       "      <td>NaN</td>\n",
       "      <td>Reese</td>\n",
       "      <td>Male</td>\n",
       "      <td>Idaho</td>\n",
       "      <td>36</td>\n",
       "      <td>1/14/2020</td>\n",
       "      <td>0</td>\n",
       "      <td>single</td>\n",
       "      <td>63249</td>\n",
       "    </tr>\n",
       "  </tbody>\n",
       "</table>\n",
       "</div>"
      ],
      "text/plain": [
       "        user_id First Name      Surnam  Gender      STATE  Age date_joined  \\\n",
       "129522   137990      Diane  Valenzuela  Female   Michigan   31   1/17/2019   \n",
       "44750     87406     Thomas    Humphrey    Male  Tennessee   19   9/15/2017   \n",
       "63547    136021       John    Holloway    Male   Arkansas   43    1/1/2018   \n",
       "125952    35924     Willie     Vasquez    Male      Maine   60  12/27/2018   \n",
       "192479    70495        NaN       Reese    Male      Idaho   36   1/14/2020   \n",
       "\n",
       "        n_dependants fam_status  income  \n",
       "129522             1    married   52642  \n",
       "44750              0     single   67348  \n",
       "63547              3    married   70158  \n",
       "125952             3    married   46174  \n",
       "192479             0     single   63249  "
      ]
     },
     "execution_count": 4,
     "metadata": {},
     "output_type": "execute_result"
    }
   ],
   "source": [
    "# check the output of df_customers\n",
    "print('Sample output of df_customers:')\n",
    "df_customers.sample(5)"
   ]
  },
  {
   "cell_type": "code",
   "execution_count": 5,
   "metadata": {},
   "outputs": [
    {
     "name": "stdout",
     "output_type": "stream",
     "text": [
      "Descriptive statistics on df_customers:\n"
     ]
    },
    {
     "data": {
      "text/html": [
       "<div>\n",
       "<style scoped>\n",
       "    .dataframe tbody tr th:only-of-type {\n",
       "        vertical-align: middle;\n",
       "    }\n",
       "\n",
       "    .dataframe tbody tr th {\n",
       "        vertical-align: top;\n",
       "    }\n",
       "\n",
       "    .dataframe thead th {\n",
       "        text-align: right;\n",
       "    }\n",
       "</style>\n",
       "<table border=\"1\" class=\"dataframe\">\n",
       "  <thead>\n",
       "    <tr style=\"text-align: right;\">\n",
       "      <th></th>\n",
       "      <th>user_id</th>\n",
       "      <th>Age</th>\n",
       "      <th>n_dependants</th>\n",
       "      <th>income</th>\n",
       "    </tr>\n",
       "  </thead>\n",
       "  <tbody>\n",
       "    <tr>\n",
       "      <th>count</th>\n",
       "      <td>206209.000000</td>\n",
       "      <td>206209.000000</td>\n",
       "      <td>206209.000000</td>\n",
       "      <td>206209.000000</td>\n",
       "    </tr>\n",
       "    <tr>\n",
       "      <th>mean</th>\n",
       "      <td>103105.000000</td>\n",
       "      <td>49.501646</td>\n",
       "      <td>1.499823</td>\n",
       "      <td>94632.852548</td>\n",
       "    </tr>\n",
       "    <tr>\n",
       "      <th>std</th>\n",
       "      <td>59527.555167</td>\n",
       "      <td>18.480962</td>\n",
       "      <td>1.118433</td>\n",
       "      <td>42473.786988</td>\n",
       "    </tr>\n",
       "    <tr>\n",
       "      <th>min</th>\n",
       "      <td>1.000000</td>\n",
       "      <td>18.000000</td>\n",
       "      <td>0.000000</td>\n",
       "      <td>25903.000000</td>\n",
       "    </tr>\n",
       "    <tr>\n",
       "      <th>25%</th>\n",
       "      <td>51553.000000</td>\n",
       "      <td>33.000000</td>\n",
       "      <td>0.000000</td>\n",
       "      <td>59874.000000</td>\n",
       "    </tr>\n",
       "    <tr>\n",
       "      <th>50%</th>\n",
       "      <td>103105.000000</td>\n",
       "      <td>49.000000</td>\n",
       "      <td>1.000000</td>\n",
       "      <td>93547.000000</td>\n",
       "    </tr>\n",
       "    <tr>\n",
       "      <th>75%</th>\n",
       "      <td>154657.000000</td>\n",
       "      <td>66.000000</td>\n",
       "      <td>3.000000</td>\n",
       "      <td>124244.000000</td>\n",
       "    </tr>\n",
       "    <tr>\n",
       "      <th>max</th>\n",
       "      <td>206209.000000</td>\n",
       "      <td>81.000000</td>\n",
       "      <td>3.000000</td>\n",
       "      <td>593901.000000</td>\n",
       "    </tr>\n",
       "  </tbody>\n",
       "</table>\n",
       "</div>"
      ],
      "text/plain": [
       "             user_id            Age   n_dependants         income\n",
       "count  206209.000000  206209.000000  206209.000000  206209.000000\n",
       "mean   103105.000000      49.501646       1.499823   94632.852548\n",
       "std     59527.555167      18.480962       1.118433   42473.786988\n",
       "min         1.000000      18.000000       0.000000   25903.000000\n",
       "25%     51553.000000      33.000000       0.000000   59874.000000\n",
       "50%    103105.000000      49.000000       1.000000   93547.000000\n",
       "75%    154657.000000      66.000000       3.000000  124244.000000\n",
       "max    206209.000000      81.000000       3.000000  593901.000000"
      ]
     },
     "execution_count": 5,
     "metadata": {},
     "output_type": "execute_result"
    }
   ],
   "source": [
    "# descriptive statistics on df_customers\n",
    "print('Descriptive statistics on df_customers:')\n",
    "df_customers.describe()"
   ]
  },
  {
   "cell_type": "markdown",
   "metadata": {},
   "source": [
    "Observations:\n",
    "\n",
    "There are 206,209 records in the dataset.\n",
    "\n",
    "Customers range in age from 18 to 81 years old, with an average age of 49.5 years.\n",
    "\n",
    "Their dependents range from 0 to 3 people.\n",
    "\n",
    "Customers' income ranges from $26,000 to 594,000 USD, with an average of 94,600 USD. The earnings appear to be annual."
   ]
  },
  {
   "cell_type": "markdown",
   "metadata": {},
   "source": [
    "### <a id='toc1_2_2_'></a>[I.2. Rename columns](#toc0_)"
   ]
  },
  {
   "cell_type": "code",
   "execution_count": 6,
   "metadata": {},
   "outputs": [
    {
     "name": "stdout",
     "output_type": "stream",
     "text": [
      "Column names in df_customers:\n"
     ]
    },
    {
     "data": {
      "text/plain": [
       "Index(['user_id', 'First Name', 'Surnam', 'Gender', 'STATE', 'Age',\n",
       "       'date_joined', 'n_dependants', 'fam_status', 'income'],\n",
       "      dtype='object')"
      ]
     },
     "execution_count": 6,
     "metadata": {},
     "output_type": "execute_result"
    }
   ],
   "source": [
    "# check column names in df_customers\n",
    "print('Column names in df_customers:')\n",
    "df_customers.columns"
   ]
  },
  {
   "cell_type": "code",
   "execution_count": 7,
   "metadata": {},
   "outputs": [],
   "source": [
    "# change column names in df_customers to be more intuitive\n",
    "df_customers.rename(\n",
    "    columns = {\n",
    "        'First Name' : 'first_name',\n",
    "        'Surnam' : 'last_name',\n",
    "        'Gender' : 'gender',\n",
    "        'STATE' : 'state',\n",
    "        'Age' : 'age',\n",
    "        'n_dependants' : 'number_of_dependants',\n",
    "        'fam_status' : 'family_status'\n",
    "        }, inplace = True)"
   ]
  },
  {
   "cell_type": "code",
   "execution_count": 8,
   "metadata": {},
   "outputs": [
    {
     "name": "stdout",
     "output_type": "stream",
     "text": [
      "New column names in df_customers:\n"
     ]
    },
    {
     "data": {
      "text/plain": [
       "Index(['user_id', 'first_name', 'last_name', 'gender', 'state', 'age',\n",
       "       'date_joined', 'number_of_dependants', 'family_status', 'income'],\n",
       "      dtype='object')"
      ]
     },
     "execution_count": 8,
     "metadata": {},
     "output_type": "execute_result"
    }
   ],
   "source": [
    "# check the new column names in df_customers\n",
    "print('New column names in df_customers:')\n",
    "df_customers.columns"
   ]
  },
  {
   "cell_type": "markdown",
   "metadata": {},
   "source": [
    "### <a id='toc1_2_3_'></a>[I.3. Change data types of variables](#toc0_)"
   ]
  },
  {
   "cell_type": "code",
   "execution_count": 9,
   "metadata": {},
   "outputs": [
    {
     "name": "stdout",
     "output_type": "stream",
     "text": [
      "Data types of columns in df_customers:\n"
     ]
    },
    {
     "data": {
      "text/plain": [
       "user_id                  int64\n",
       "first_name              object\n",
       "last_name               object\n",
       "gender                  object\n",
       "state                   object\n",
       "age                      int64\n",
       "date_joined             object\n",
       "number_of_dependants     int64\n",
       "family_status           object\n",
       "income                   int64\n",
       "dtype: object"
      ]
     },
     "execution_count": 9,
     "metadata": {},
     "output_type": "execute_result"
    }
   ],
   "source": [
    "# check the data types of each column in df_customers\n",
    "print('Data types of columns in df_customers:')\n",
    "df_customers.dtypes"
   ]
  },
  {
   "cell_type": "code",
   "execution_count": 10,
   "metadata": {},
   "outputs": [],
   "source": [
    "# change the data type of column 'user_id' to string\n",
    "df_customers['user_id'] = df_customers['user_id'].astype('str')"
   ]
  },
  {
   "cell_type": "code",
   "execution_count": 11,
   "metadata": {},
   "outputs": [
    {
     "name": "stdout",
     "output_type": "stream",
     "text": [
      "Data type of column user_id:\n"
     ]
    },
    {
     "data": {
      "text/plain": [
       "dtype('O')"
      ]
     },
     "execution_count": 11,
     "metadata": {},
     "output_type": "execute_result"
    }
   ],
   "source": [
    "# check column 'user_id'\n",
    "print('Data type of column user_id:')\n",
    "df_customers['user_id'].dtype"
   ]
  },
  {
   "cell_type": "markdown",
   "metadata": {},
   "source": [
    "## <a id='toc1_3_'></a>[II. Data Consistency Checks](#toc0_)"
   ]
  },
  {
   "cell_type": "markdown",
   "metadata": {},
   "source": [
    "### <a id='toc1_3_1_'></a>[II.1. Check for mixed-types](#toc0_)"
   ]
  },
  {
   "cell_type": "code",
   "execution_count": 12,
   "metadata": {},
   "outputs": [
    {
     "name": "stdout",
     "output_type": "stream",
     "text": [
      "Columns in df_customers:\n",
      "user_id : consistent\n",
      "first_name : mixed types\n",
      "last_name : consistent\n",
      "gender : consistent\n",
      "state : consistent\n",
      "age : consistent\n",
      "date_joined : consistent\n",
      "number_of_dependants : consistent\n",
      "family_status : consistent\n",
      "income : consistent\n"
     ]
    }
   ],
   "source": [
    "# check for mixed-type columns in df_customers\n",
    "print('Columns in df_customers:')\n",
    "for col in df_customers.columns.tolist():\n",
    "    weird = (\n",
    "        df_customers[[col]].applymap(type) != df_customers[[col]].iloc[0].apply(type)\n",
    "        ).any(axis = 1)\n",
    "    if len (df_customers[weird]) >0:\n",
    "        print(col, ': mixed types')\n",
    "    else:\n",
    "        print(col, ': consistent')"
   ]
  },
  {
   "cell_type": "code",
   "execution_count": 13,
   "metadata": {},
   "outputs": [
    {
     "name": "stdout",
     "output_type": "stream",
     "text": [
      "Current types of values in column first_name:\n"
     ]
    },
    {
     "data": {
      "text/plain": [
       "<class 'str'>      194950\n",
       "<class 'float'>     11259\n",
       "Name: first_name, dtype: int64"
      ]
     },
     "execution_count": 13,
     "metadata": {},
     "output_type": "execute_result"
    }
   ],
   "source": [
    "# check the current types of values in column 'first_name' column in df_customers\n",
    "print('Current types of values in column first_name:')\n",
    "df_customers['first_name'].apply(type).value_counts()"
   ]
  },
  {
   "cell_type": "code",
   "execution_count": 14,
   "metadata": {},
   "outputs": [
    {
     "name": "stdout",
     "output_type": "stream",
     "text": [
      "Sampled values in column first_name:\n"
     ]
    },
    {
     "data": {
      "text/plain": [
       "103799         Todd\n",
       "160259      Anthony\n",
       "2897      Stephanie\n",
       "19976      Clarence\n",
       "184301       Victor\n",
       "172373       Louise\n",
       "54784        Andrea\n",
       "75266        Thomas\n",
       "33919          Ruth\n",
       "47487       Shirley\n",
       "Name: first_name, dtype: object"
      ]
     },
     "execution_count": 14,
     "metadata": {},
     "output_type": "execute_result"
    }
   ],
   "source": [
    "# check a few values in column 'first_name'\n",
    "print('Sampled values in column first_name:')\n",
    "df_customers['first_name'].sample(10)"
   ]
  },
  {
   "cell_type": "markdown",
   "metadata": {},
   "source": [
    "### <a id='toc1_3_2_'></a>[II.2. Check for and address missing values and duplicates](#toc0_)"
   ]
  },
  {
   "cell_type": "code",
   "execution_count": 15,
   "metadata": {},
   "outputs": [
    {
     "name": "stdout",
     "output_type": "stream",
     "text": [
      "Null values in column first_name in df_customers:\n"
     ]
    },
    {
     "data": {
      "text/html": [
       "<div>\n",
       "<style scoped>\n",
       "    .dataframe tbody tr th:only-of-type {\n",
       "        vertical-align: middle;\n",
       "    }\n",
       "\n",
       "    .dataframe tbody tr th {\n",
       "        vertical-align: top;\n",
       "    }\n",
       "\n",
       "    .dataframe thead th {\n",
       "        text-align: right;\n",
       "    }\n",
       "</style>\n",
       "<table border=\"1\" class=\"dataframe\">\n",
       "  <thead>\n",
       "    <tr style=\"text-align: right;\">\n",
       "      <th></th>\n",
       "      <th>user_id</th>\n",
       "      <th>first_name</th>\n",
       "      <th>last_name</th>\n",
       "      <th>gender</th>\n",
       "      <th>state</th>\n",
       "      <th>age</th>\n",
       "      <th>date_joined</th>\n",
       "      <th>number_of_dependants</th>\n",
       "      <th>family_status</th>\n",
       "      <th>income</th>\n",
       "    </tr>\n",
       "  </thead>\n",
       "  <tbody>\n",
       "    <tr>\n",
       "      <th>53</th>\n",
       "      <td>76659</td>\n",
       "      <td>NaN</td>\n",
       "      <td>Gilbert</td>\n",
       "      <td>Male</td>\n",
       "      <td>Colorado</td>\n",
       "      <td>26</td>\n",
       "      <td>1/1/2017</td>\n",
       "      <td>2</td>\n",
       "      <td>married</td>\n",
       "      <td>41709</td>\n",
       "    </tr>\n",
       "    <tr>\n",
       "      <th>73</th>\n",
       "      <td>13738</td>\n",
       "      <td>NaN</td>\n",
       "      <td>Frost</td>\n",
       "      <td>Female</td>\n",
       "      <td>Louisiana</td>\n",
       "      <td>39</td>\n",
       "      <td>1/1/2017</td>\n",
       "      <td>0</td>\n",
       "      <td>single</td>\n",
       "      <td>82518</td>\n",
       "    </tr>\n",
       "    <tr>\n",
       "      <th>82</th>\n",
       "      <td>89996</td>\n",
       "      <td>NaN</td>\n",
       "      <td>Dawson</td>\n",
       "      <td>Female</td>\n",
       "      <td>Oregon</td>\n",
       "      <td>52</td>\n",
       "      <td>1/1/2017</td>\n",
       "      <td>3</td>\n",
       "      <td>married</td>\n",
       "      <td>117099</td>\n",
       "    </tr>\n",
       "    <tr>\n",
       "      <th>99</th>\n",
       "      <td>96166</td>\n",
       "      <td>NaN</td>\n",
       "      <td>Oconnor</td>\n",
       "      <td>Male</td>\n",
       "      <td>Oklahoma</td>\n",
       "      <td>51</td>\n",
       "      <td>1/1/2017</td>\n",
       "      <td>1</td>\n",
       "      <td>married</td>\n",
       "      <td>155673</td>\n",
       "    </tr>\n",
       "    <tr>\n",
       "      <th>105</th>\n",
       "      <td>29778</td>\n",
       "      <td>NaN</td>\n",
       "      <td>Dawson</td>\n",
       "      <td>Female</td>\n",
       "      <td>Utah</td>\n",
       "      <td>63</td>\n",
       "      <td>1/1/2017</td>\n",
       "      <td>3</td>\n",
       "      <td>married</td>\n",
       "      <td>151819</td>\n",
       "    </tr>\n",
       "    <tr>\n",
       "      <th>...</th>\n",
       "      <td>...</td>\n",
       "      <td>...</td>\n",
       "      <td>...</td>\n",
       "      <td>...</td>\n",
       "      <td>...</td>\n",
       "      <td>...</td>\n",
       "      <td>...</td>\n",
       "      <td>...</td>\n",
       "      <td>...</td>\n",
       "      <td>...</td>\n",
       "    </tr>\n",
       "    <tr>\n",
       "      <th>206038</th>\n",
       "      <td>121317</td>\n",
       "      <td>NaN</td>\n",
       "      <td>Melton</td>\n",
       "      <td>Male</td>\n",
       "      <td>Pennsylvania</td>\n",
       "      <td>28</td>\n",
       "      <td>3/31/2020</td>\n",
       "      <td>3</td>\n",
       "      <td>married</td>\n",
       "      <td>87783</td>\n",
       "    </tr>\n",
       "    <tr>\n",
       "      <th>206044</th>\n",
       "      <td>200799</td>\n",
       "      <td>NaN</td>\n",
       "      <td>Copeland</td>\n",
       "      <td>Female</td>\n",
       "      <td>Hawaii</td>\n",
       "      <td>52</td>\n",
       "      <td>4/1/2020</td>\n",
       "      <td>2</td>\n",
       "      <td>married</td>\n",
       "      <td>108488</td>\n",
       "    </tr>\n",
       "    <tr>\n",
       "      <th>206090</th>\n",
       "      <td>167394</td>\n",
       "      <td>NaN</td>\n",
       "      <td>Frost</td>\n",
       "      <td>Female</td>\n",
       "      <td>Hawaii</td>\n",
       "      <td>61</td>\n",
       "      <td>4/1/2020</td>\n",
       "      <td>1</td>\n",
       "      <td>married</td>\n",
       "      <td>45275</td>\n",
       "    </tr>\n",
       "    <tr>\n",
       "      <th>206162</th>\n",
       "      <td>187532</td>\n",
       "      <td>NaN</td>\n",
       "      <td>Floyd</td>\n",
       "      <td>Female</td>\n",
       "      <td>California</td>\n",
       "      <td>39</td>\n",
       "      <td>4/1/2020</td>\n",
       "      <td>0</td>\n",
       "      <td>single</td>\n",
       "      <td>56325</td>\n",
       "    </tr>\n",
       "    <tr>\n",
       "      <th>206171</th>\n",
       "      <td>116898</td>\n",
       "      <td>NaN</td>\n",
       "      <td>Delgado</td>\n",
       "      <td>Female</td>\n",
       "      <td>Colorado</td>\n",
       "      <td>23</td>\n",
       "      <td>4/1/2020</td>\n",
       "      <td>2</td>\n",
       "      <td>married</td>\n",
       "      <td>59222</td>\n",
       "    </tr>\n",
       "  </tbody>\n",
       "</table>\n",
       "<p>11259 rows × 10 columns</p>\n",
       "</div>"
      ],
      "text/plain": [
       "       user_id first_name last_name  gender         state  age date_joined  \\\n",
       "53       76659        NaN   Gilbert    Male      Colorado   26    1/1/2017   \n",
       "73       13738        NaN     Frost  Female     Louisiana   39    1/1/2017   \n",
       "82       89996        NaN    Dawson  Female        Oregon   52    1/1/2017   \n",
       "99       96166        NaN   Oconnor    Male      Oklahoma   51    1/1/2017   \n",
       "105      29778        NaN    Dawson  Female          Utah   63    1/1/2017   \n",
       "...        ...        ...       ...     ...           ...  ...         ...   \n",
       "206038  121317        NaN    Melton    Male  Pennsylvania   28   3/31/2020   \n",
       "206044  200799        NaN  Copeland  Female        Hawaii   52    4/1/2020   \n",
       "206090  167394        NaN     Frost  Female        Hawaii   61    4/1/2020   \n",
       "206162  187532        NaN     Floyd  Female    California   39    4/1/2020   \n",
       "206171  116898        NaN   Delgado  Female      Colorado   23    4/1/2020   \n",
       "\n",
       "        number_of_dependants family_status  income  \n",
       "53                         2       married   41709  \n",
       "73                         0        single   82518  \n",
       "82                         3       married  117099  \n",
       "99                         1       married  155673  \n",
       "105                        3       married  151819  \n",
       "...                      ...           ...     ...  \n",
       "206038                     3       married   87783  \n",
       "206044                     2       married  108488  \n",
       "206090                     1       married   45275  \n",
       "206162                     0        single   56325  \n",
       "206171                     2       married   59222  \n",
       "\n",
       "[11259 rows x 10 columns]"
      ]
     },
     "execution_count": 15,
     "metadata": {},
     "output_type": "execute_result"
    }
   ],
   "source": [
    "# check for null values in column 'first_name' in df_customers\n",
    "print('Null values in column first_name in df_customers:')\n",
    "df_customers[df_customers['first_name'].isna()]"
   ]
  },
  {
   "cell_type": "markdown",
   "metadata": {},
   "source": [
    "Observation: There are 11,259 first names missing, likely because they were not recorded in the first place."
   ]
  },
  {
   "cell_type": "code",
   "execution_count": 16,
   "metadata": {},
   "outputs": [
    {
     "name": "stdout",
     "output_type": "stream",
     "text": [
      "Number of rows and columns in df_customers_clean:\n"
     ]
    },
    {
     "data": {
      "text/plain": [
       "(194950, 10)"
      ]
     },
     "execution_count": 16,
     "metadata": {},
     "output_type": "execute_result"
    }
   ],
   "source": [
    "# remove the missing values from df_customers and create a new dataframe\n",
    "df_customers_clean = df_customers[df_customers['first_name'].isnull() == False]\n",
    "\n",
    "print('Number of rows and columns in df_customers_clean:')\n",
    "df_customers_clean.shape"
   ]
  },
  {
   "cell_type": "code",
   "execution_count": 17,
   "metadata": {},
   "outputs": [
    {
     "name": "stdout",
     "output_type": "stream",
     "text": [
      "Types of values in column first_name in df_customers_clean:\n"
     ]
    },
    {
     "data": {
      "text/plain": [
       "<class 'str'>    194950\n",
       "Name: first_name, dtype: int64"
      ]
     },
     "execution_count": 17,
     "metadata": {},
     "output_type": "execute_result"
    }
   ],
   "source": [
    "# check the types of values in column 'first_name' in df_customers_clean\n",
    "print('Types of values in column first_name in df_customers_clean:')\n",
    "df_customers_clean['first_name'].apply(type).value_counts()"
   ]
  },
  {
   "cell_type": "code",
   "execution_count": 18,
   "metadata": {},
   "outputs": [
    {
     "name": "stdout",
     "output_type": "stream",
     "text": [
      "Duplicates in df_customers_clean:\n"
     ]
    },
    {
     "data": {
      "text/html": [
       "<div>\n",
       "<style scoped>\n",
       "    .dataframe tbody tr th:only-of-type {\n",
       "        vertical-align: middle;\n",
       "    }\n",
       "\n",
       "    .dataframe tbody tr th {\n",
       "        vertical-align: top;\n",
       "    }\n",
       "\n",
       "    .dataframe thead th {\n",
       "        text-align: right;\n",
       "    }\n",
       "</style>\n",
       "<table border=\"1\" class=\"dataframe\">\n",
       "  <thead>\n",
       "    <tr style=\"text-align: right;\">\n",
       "      <th></th>\n",
       "      <th>user_id</th>\n",
       "      <th>first_name</th>\n",
       "      <th>last_name</th>\n",
       "      <th>gender</th>\n",
       "      <th>state</th>\n",
       "      <th>age</th>\n",
       "      <th>date_joined</th>\n",
       "      <th>number_of_dependants</th>\n",
       "      <th>family_status</th>\n",
       "      <th>income</th>\n",
       "    </tr>\n",
       "  </thead>\n",
       "  <tbody>\n",
       "  </tbody>\n",
       "</table>\n",
       "</div>"
      ],
      "text/plain": [
       "Empty DataFrame\n",
       "Columns: [user_id, first_name, last_name, gender, state, age, date_joined, number_of_dependants, family_status, income]\n",
       "Index: []"
      ]
     },
     "execution_count": 18,
     "metadata": {},
     "output_type": "execute_result"
    }
   ],
   "source": [
    "# check for full duplicates in df_customers_clean\n",
    "df_dupes = df_customers_clean[df_customers_clean.duplicated()]\n",
    "\n",
    "print('Duplicates in df_customers_clean:')\n",
    "df_dupes"
   ]
  },
  {
   "cell_type": "markdown",
   "metadata": {},
   "source": [
    "Observation: The dataset has no duplicates."
   ]
  },
  {
   "cell_type": "markdown",
   "metadata": {},
   "source": [
    "## <a id='toc1_4_'></a>[III. Data Combining with orders_products_merged_3.pkl](#toc0_)"
   ]
  },
  {
   "cell_type": "markdown",
   "metadata": {},
   "source": [
    "### <a id='toc1_4_1_'></a>[III.1. Check consistency of key columns](#toc0_)"
   ]
  },
  {
   "cell_type": "code",
   "execution_count": 19,
   "metadata": {},
   "outputs": [
    {
     "name": "stdout",
     "output_type": "stream",
     "text": [
      "Number of rows and columns of df_customers_clean: (194950, 10)\n",
      "Number of rows and columns of df_ords_merged: (32404859, 24)\n"
     ]
    }
   ],
   "source": [
    "# check the dimensions of both dataframes\n",
    "print('Number of rows and columns of df_customers_clean:', df_customers_clean.shape)\n",
    "print('Number of rows and columns of df_ords_merged:', df_ords_merged.shape)"
   ]
  },
  {
   "cell_type": "code",
   "execution_count": 20,
   "metadata": {},
   "outputs": [
    {
     "name": "stdout",
     "output_type": "stream",
     "text": [
      "Sample output of df_ords_merged:\n"
     ]
    },
    {
     "data": {
      "text/html": [
       "<div>\n",
       "<style scoped>\n",
       "    .dataframe tbody tr th:only-of-type {\n",
       "        vertical-align: middle;\n",
       "    }\n",
       "\n",
       "    .dataframe tbody tr th {\n",
       "        vertical-align: top;\n",
       "    }\n",
       "\n",
       "    .dataframe thead th {\n",
       "        text-align: right;\n",
       "    }\n",
       "</style>\n",
       "<table border=\"1\" class=\"dataframe\">\n",
       "  <thead>\n",
       "    <tr style=\"text-align: right;\">\n",
       "      <th></th>\n",
       "      <th>product_id</th>\n",
       "      <th>product_name</th>\n",
       "      <th>aisle_id</th>\n",
       "      <th>department_id</th>\n",
       "      <th>prices</th>\n",
       "      <th>order_id</th>\n",
       "      <th>user_id</th>\n",
       "      <th>order_number</th>\n",
       "      <th>orders_day_of_week</th>\n",
       "      <th>order_hour_of_day</th>\n",
       "      <th>...</th>\n",
       "      <th>price_range</th>\n",
       "      <th>busiest_day</th>\n",
       "      <th>busiest_days</th>\n",
       "      <th>busiest_period_of_day</th>\n",
       "      <th>max_order</th>\n",
       "      <th>loyalty_flag</th>\n",
       "      <th>avg_price</th>\n",
       "      <th>spending_flag</th>\n",
       "      <th>order_freq</th>\n",
       "      <th>order_freq_flag</th>\n",
       "    </tr>\n",
       "  </thead>\n",
       "  <tbody>\n",
       "    <tr>\n",
       "      <th>7417526</th>\n",
       "      <td>12945</td>\n",
       "      <td>Signature Recipes Vodka Sauce Pasta Sauce</td>\n",
       "      <td>9</td>\n",
       "      <td>9</td>\n",
       "      <td>8.8</td>\n",
       "      <td>3051466</td>\n",
       "      <td>202786</td>\n",
       "      <td>4</td>\n",
       "      <td>1</td>\n",
       "      <td>19</td>\n",
       "      <td>...</td>\n",
       "      <td>Mid-range product</td>\n",
       "      <td>Regularly busy</td>\n",
       "      <td>Busiest days</td>\n",
       "      <td>Average orders</td>\n",
       "      <td>4</td>\n",
       "      <td>New customer</td>\n",
       "      <td>8.010448</td>\n",
       "      <td>Low spender</td>\n",
       "      <td>22.0</td>\n",
       "      <td>Non-frequent customer</td>\n",
       "    </tr>\n",
       "    <tr>\n",
       "      <th>23580558</th>\n",
       "      <td>36557</td>\n",
       "      <td>Campari Tomato</td>\n",
       "      <td>83</td>\n",
       "      <td>4</td>\n",
       "      <td>2.4</td>\n",
       "      <td>10858</td>\n",
       "      <td>63700</td>\n",
       "      <td>15</td>\n",
       "      <td>1</td>\n",
       "      <td>8</td>\n",
       "      <td>...</td>\n",
       "      <td>Low-range product</td>\n",
       "      <td>Regularly busy</td>\n",
       "      <td>Busiest days</td>\n",
       "      <td>Average orders</td>\n",
       "      <td>19</td>\n",
       "      <td>Regular customer</td>\n",
       "      <td>7.677114</td>\n",
       "      <td>Low spender</td>\n",
       "      <td>9.0</td>\n",
       "      <td>Frequent customer</td>\n",
       "    </tr>\n",
       "    <tr>\n",
       "      <th>28038822</th>\n",
       "      <td>43768</td>\n",
       "      <td>Organic Bell Pepper</td>\n",
       "      <td>83</td>\n",
       "      <td>4</td>\n",
       "      <td>9.1</td>\n",
       "      <td>2905929</td>\n",
       "      <td>63942</td>\n",
       "      <td>22</td>\n",
       "      <td>5</td>\n",
       "      <td>15</td>\n",
       "      <td>...</td>\n",
       "      <td>Mid-range product</td>\n",
       "      <td>Regularly busy</td>\n",
       "      <td>Regular days</td>\n",
       "      <td>Most orders</td>\n",
       "      <td>24</td>\n",
       "      <td>Regular customer</td>\n",
       "      <td>8.327690</td>\n",
       "      <td>Low spender</td>\n",
       "      <td>12.0</td>\n",
       "      <td>Regular customer</td>\n",
       "    </tr>\n",
       "    <tr>\n",
       "      <th>29776096</th>\n",
       "      <td>46306</td>\n",
       "      <td>100% Pure Avocado Oil</td>\n",
       "      <td>19</td>\n",
       "      <td>13</td>\n",
       "      <td>12.1</td>\n",
       "      <td>77560</td>\n",
       "      <td>180729</td>\n",
       "      <td>14</td>\n",
       "      <td>6</td>\n",
       "      <td>12</td>\n",
       "      <td>...</td>\n",
       "      <td>Mid-range product</td>\n",
       "      <td>Regularly busy</td>\n",
       "      <td>Regular days</td>\n",
       "      <td>Most orders</td>\n",
       "      <td>26</td>\n",
       "      <td>Regular customer</td>\n",
       "      <td>7.973252</td>\n",
       "      <td>Low spender</td>\n",
       "      <td>9.0</td>\n",
       "      <td>Frequent customer</td>\n",
       "    </tr>\n",
       "    <tr>\n",
       "      <th>13165357</th>\n",
       "      <td>21616</td>\n",
       "      <td>Organic Baby Arugula</td>\n",
       "      <td>123</td>\n",
       "      <td>4</td>\n",
       "      <td>4.9</td>\n",
       "      <td>1235169</td>\n",
       "      <td>60301</td>\n",
       "      <td>13</td>\n",
       "      <td>2</td>\n",
       "      <td>16</td>\n",
       "      <td>...</td>\n",
       "      <td>Low-range product</td>\n",
       "      <td>Regularly busy</td>\n",
       "      <td>Regular days</td>\n",
       "      <td>Most orders</td>\n",
       "      <td>20</td>\n",
       "      <td>Regular customer</td>\n",
       "      <td>8.400395</td>\n",
       "      <td>Low spender</td>\n",
       "      <td>9.0</td>\n",
       "      <td>Frequent customer</td>\n",
       "    </tr>\n",
       "  </tbody>\n",
       "</table>\n",
       "<p>5 rows × 24 columns</p>\n",
       "</div>"
      ],
      "text/plain": [
       "         product_id                               product_name aisle_id  \\\n",
       "7417526       12945  Signature Recipes Vodka Sauce Pasta Sauce        9   \n",
       "23580558      36557                             Campari Tomato       83   \n",
       "28038822      43768                        Organic Bell Pepper       83   \n",
       "29776096      46306                      100% Pure Avocado Oil       19   \n",
       "13165357      21616                       Organic Baby Arugula      123   \n",
       "\n",
       "         department_id  prices order_id user_id  order_number  \\\n",
       "7417526              9     8.8  3051466  202786             4   \n",
       "23580558             4     2.4    10858   63700            15   \n",
       "28038822             4     9.1  2905929   63942            22   \n",
       "29776096            13    12.1    77560  180729            14   \n",
       "13165357             4     4.9  1235169   60301            13   \n",
       "\n",
       "          orders_day_of_week  order_hour_of_day  ...        price_range  \\\n",
       "7417526                    1                 19  ...  Mid-range product   \n",
       "23580558                   1                  8  ...  Low-range product   \n",
       "28038822                   5                 15  ...  Mid-range product   \n",
       "29776096                   6                 12  ...  Mid-range product   \n",
       "13165357                   2                 16  ...  Low-range product   \n",
       "\n",
       "             busiest_day  busiest_days  busiest_period_of_day max_order  \\\n",
       "7417526   Regularly busy  Busiest days         Average orders         4   \n",
       "23580558  Regularly busy  Busiest days         Average orders        19   \n",
       "28038822  Regularly busy  Regular days            Most orders        24   \n",
       "29776096  Regularly busy  Regular days            Most orders        26   \n",
       "13165357  Regularly busy  Regular days            Most orders        20   \n",
       "\n",
       "              loyalty_flag avg_price spending_flag  order_freq  \\\n",
       "7417526       New customer  8.010448   Low spender        22.0   \n",
       "23580558  Regular customer  7.677114   Low spender         9.0   \n",
       "28038822  Regular customer  8.327690   Low spender        12.0   \n",
       "29776096  Regular customer  7.973252   Low spender         9.0   \n",
       "13165357  Regular customer  8.400395   Low spender         9.0   \n",
       "\n",
       "                order_freq_flag  \n",
       "7417526   Non-frequent customer  \n",
       "23580558      Frequent customer  \n",
       "28038822       Regular customer  \n",
       "29776096      Frequent customer  \n",
       "13165357      Frequent customer  \n",
       "\n",
       "[5 rows x 24 columns]"
      ]
     },
     "execution_count": 20,
     "metadata": {},
     "output_type": "execute_result"
    }
   ],
   "source": [
    "# check the output of df_ords_merged\n",
    "print('Sample output of df_ords_merged:')\n",
    "df_ords_merged.sample(5)"
   ]
  },
  {
   "cell_type": "code",
   "execution_count": 21,
   "metadata": {},
   "outputs": [
    {
     "name": "stdout",
     "output_type": "stream",
     "text": [
      "Data types of key columns user_id in df_customers_clean: object\n",
      "Data types of key columns user_id in df_ords_merged: object\n"
     ]
    }
   ],
   "source": [
    "# check the data types of key columns 'user_id' in both df_customers_clean and df_ords_merged\n",
    "print('Data types of key columns user_id in df_customers_clean:', df_customers_clean['user_id'].dtype)\n",
    "print('Data types of key columns user_id in df_ords_merged:', df_ords_merged['user_id'].dtype)"
   ]
  },
  {
   "cell_type": "markdown",
   "metadata": {},
   "source": [
    "### <a id='toc1_4_2_'></a>[III.2. Merge datasets](#toc0_)"
   ]
  },
  {
   "cell_type": "code",
   "execution_count": 22,
   "metadata": {},
   "outputs": [],
   "source": [
    "# Merge df_customers_clean and df_ords_merged using 'user_id' as a key and an indicator flag\n",
    "df_merged_large = df_ords_merged.merge(df_customers_clean, on = 'user_id', how = 'inner', indicator = True)"
   ]
  },
  {
   "cell_type": "code",
   "execution_count": 23,
   "metadata": {},
   "outputs": [
    {
     "name": "stdout",
     "output_type": "stream",
     "text": [
      "Number of rows and columns of df_merged_large:\n"
     ]
    },
    {
     "data": {
      "text/plain": [
       "(30629741, 34)"
      ]
     },
     "execution_count": 23,
     "metadata": {},
     "output_type": "execute_result"
    }
   ],
   "source": [
    "# check number of rows and columns in the merged dataframe\n",
    "print('Number of rows and columns of df_merged_large:')\n",
    "df_merged_large.shape"
   ]
  },
  {
   "cell_type": "code",
   "execution_count": 24,
   "metadata": {},
   "outputs": [
    {
     "name": "stdout",
     "output_type": "stream",
     "text": [
      "Sampled output of df_merged_large:\n"
     ]
    },
    {
     "data": {
      "text/html": [
       "<div>\n",
       "<style scoped>\n",
       "    .dataframe tbody tr th:only-of-type {\n",
       "        vertical-align: middle;\n",
       "    }\n",
       "\n",
       "    .dataframe tbody tr th {\n",
       "        vertical-align: top;\n",
       "    }\n",
       "\n",
       "    .dataframe thead th {\n",
       "        text-align: right;\n",
       "    }\n",
       "</style>\n",
       "<table border=\"1\" class=\"dataframe\">\n",
       "  <thead>\n",
       "    <tr style=\"text-align: right;\">\n",
       "      <th></th>\n",
       "      <th>product_id</th>\n",
       "      <th>product_name</th>\n",
       "      <th>aisle_id</th>\n",
       "      <th>department_id</th>\n",
       "      <th>prices</th>\n",
       "      <th>order_id</th>\n",
       "      <th>user_id</th>\n",
       "      <th>order_number</th>\n",
       "      <th>orders_day_of_week</th>\n",
       "      <th>order_hour_of_day</th>\n",
       "      <th>...</th>\n",
       "      <th>first_name</th>\n",
       "      <th>last_name</th>\n",
       "      <th>gender</th>\n",
       "      <th>state</th>\n",
       "      <th>age</th>\n",
       "      <th>date_joined</th>\n",
       "      <th>number_of_dependants</th>\n",
       "      <th>family_status</th>\n",
       "      <th>income</th>\n",
       "      <th>_merge</th>\n",
       "    </tr>\n",
       "  </thead>\n",
       "  <tbody>\n",
       "    <tr>\n",
       "      <th>22864074</th>\n",
       "      <td>41665</td>\n",
       "      <td>Organic Mexican Blend Finely Shredded Cheese</td>\n",
       "      <td>21</td>\n",
       "      <td>16</td>\n",
       "      <td>4.7</td>\n",
       "      <td>530857</td>\n",
       "      <td>18421</td>\n",
       "      <td>6</td>\n",
       "      <td>1</td>\n",
       "      <td>22</td>\n",
       "      <td>...</td>\n",
       "      <td>Cheryl</td>\n",
       "      <td>Curtis</td>\n",
       "      <td>Female</td>\n",
       "      <td>Florida</td>\n",
       "      <td>37</td>\n",
       "      <td>6/8/2019</td>\n",
       "      <td>0</td>\n",
       "      <td>single</td>\n",
       "      <td>41927</td>\n",
       "      <td>both</td>\n",
       "    </tr>\n",
       "    <tr>\n",
       "      <th>27551682</th>\n",
       "      <td>5258</td>\n",
       "      <td>Sparkling Water</td>\n",
       "      <td>115</td>\n",
       "      <td>7</td>\n",
       "      <td>1.1</td>\n",
       "      <td>2539102</td>\n",
       "      <td>108214</td>\n",
       "      <td>22</td>\n",
       "      <td>1</td>\n",
       "      <td>7</td>\n",
       "      <td>...</td>\n",
       "      <td>Lillian</td>\n",
       "      <td>Schaefer</td>\n",
       "      <td>Female</td>\n",
       "      <td>Tennessee</td>\n",
       "      <td>29</td>\n",
       "      <td>12/17/2017</td>\n",
       "      <td>0</td>\n",
       "      <td>single</td>\n",
       "      <td>45366</td>\n",
       "      <td>both</td>\n",
       "    </tr>\n",
       "    <tr>\n",
       "      <th>5718930</th>\n",
       "      <td>27966</td>\n",
       "      <td>Organic Raspberries</td>\n",
       "      <td>123</td>\n",
       "      <td>4</td>\n",
       "      <td>4.4</td>\n",
       "      <td>2173478</td>\n",
       "      <td>109017</td>\n",
       "      <td>16</td>\n",
       "      <td>5</td>\n",
       "      <td>11</td>\n",
       "      <td>...</td>\n",
       "      <td>Louis</td>\n",
       "      <td>Schmitt</td>\n",
       "      <td>Male</td>\n",
       "      <td>Ohio</td>\n",
       "      <td>55</td>\n",
       "      <td>3/3/2019</td>\n",
       "      <td>1</td>\n",
       "      <td>married</td>\n",
       "      <td>104654</td>\n",
       "      <td>both</td>\n",
       "    </tr>\n",
       "    <tr>\n",
       "      <th>22806763</th>\n",
       "      <td>13500</td>\n",
       "      <td>Mild Sliced Cheddar Cheese</td>\n",
       "      <td>21</td>\n",
       "      <td>16</td>\n",
       "      <td>2.9</td>\n",
       "      <td>2971138</td>\n",
       "      <td>143016</td>\n",
       "      <td>9</td>\n",
       "      <td>1</td>\n",
       "      <td>16</td>\n",
       "      <td>...</td>\n",
       "      <td>Denise</td>\n",
       "      <td>Merritt</td>\n",
       "      <td>Female</td>\n",
       "      <td>Hawaii</td>\n",
       "      <td>67</td>\n",
       "      <td>12/4/2019</td>\n",
       "      <td>0</td>\n",
       "      <td>divorced/widowed</td>\n",
       "      <td>106038</td>\n",
       "      <td>both</td>\n",
       "    </tr>\n",
       "    <tr>\n",
       "      <th>981842</th>\n",
       "      <td>9106</td>\n",
       "      <td>Chocolate Pudding</td>\n",
       "      <td>71</td>\n",
       "      <td>16</td>\n",
       "      <td>14.6</td>\n",
       "      <td>2262591</td>\n",
       "      <td>78611</td>\n",
       "      <td>1</td>\n",
       "      <td>3</td>\n",
       "      <td>20</td>\n",
       "      <td>...</td>\n",
       "      <td>Eric</td>\n",
       "      <td>Jefferson</td>\n",
       "      <td>Male</td>\n",
       "      <td>Maine</td>\n",
       "      <td>19</td>\n",
       "      <td>10/25/2019</td>\n",
       "      <td>3</td>\n",
       "      <td>living with parents and siblings</td>\n",
       "      <td>55532</td>\n",
       "      <td>both</td>\n",
       "    </tr>\n",
       "  </tbody>\n",
       "</table>\n",
       "<p>5 rows × 34 columns</p>\n",
       "</div>"
      ],
      "text/plain": [
       "         product_id                                  product_name aisle_id  \\\n",
       "22864074      41665  Organic Mexican Blend Finely Shredded Cheese       21   \n",
       "27551682       5258                               Sparkling Water      115   \n",
       "5718930       27966                           Organic Raspberries      123   \n",
       "22806763      13500                    Mild Sliced Cheddar Cheese       21   \n",
       "981842         9106                             Chocolate Pudding       71   \n",
       "\n",
       "         department_id  prices order_id user_id  order_number  \\\n",
       "22864074            16     4.7   530857   18421             6   \n",
       "27551682             7     1.1  2539102  108214            22   \n",
       "5718930              4     4.4  2173478  109017            16   \n",
       "22806763            16     2.9  2971138  143016             9   \n",
       "981842              16    14.6  2262591   78611             1   \n",
       "\n",
       "          orders_day_of_week  order_hour_of_day  ...  first_name  last_name  \\\n",
       "22864074                   1                 22  ...      Cheryl     Curtis   \n",
       "27551682                   1                  7  ...     Lillian   Schaefer   \n",
       "5718930                    5                 11  ...       Louis    Schmitt   \n",
       "22806763                   1                 16  ...      Denise    Merritt   \n",
       "981842                     3                 20  ...        Eric  Jefferson   \n",
       "\n",
       "          gender      state age date_joined number_of_dependants  \\\n",
       "22864074  Female    Florida  37    6/8/2019                    0   \n",
       "27551682  Female  Tennessee  29  12/17/2017                    0   \n",
       "5718930     Male       Ohio  55    3/3/2019                    1   \n",
       "22806763  Female     Hawaii  67   12/4/2019                    0   \n",
       "981842      Male      Maine  19  10/25/2019                    3   \n",
       "\n",
       "                             family_status  income _merge  \n",
       "22864074                            single   41927   both  \n",
       "27551682                            single   45366   both  \n",
       "5718930                            married  104654   both  \n",
       "22806763                  divorced/widowed  106038   both  \n",
       "981842    living with parents and siblings   55532   both  \n",
       "\n",
       "[5 rows x 34 columns]"
      ]
     },
     "execution_count": 24,
     "metadata": {},
     "output_type": "execute_result"
    }
   ],
   "source": [
    "# check the output of df_ords_merged\n",
    "print('Sampled output of df_merged_large:')\n",
    "df_merged_large.sample(5)"
   ]
  },
  {
   "cell_type": "markdown",
   "metadata": {},
   "source": [
    "## <a id='toc1_5_'></a>[IV. Data Export](#toc0_)"
   ]
  },
  {
   "cell_type": "code",
   "execution_count": null,
   "metadata": {},
   "outputs": [],
   "source": [
    "# export df_merged_large in .pkl format\n",
    "df_merged_large.to_pickle(os.path.join(path, '02 Data','Prepared Data', 'orders_products_merged_4.pkl'))"
   ]
  }
 ],
 "metadata": {
  "kernelspec": {
   "display_name": "Python 3 (ipykernel)",
   "language": "python",
   "name": "python3"
  },
  "language_info": {
   "codemirror_mode": {
    "name": "ipython",
    "version": 3
   },
   "file_extension": ".py",
   "mimetype": "text/x-python",
   "name": "python",
   "nbconvert_exporter": "python",
   "pygments_lexer": "ipython3",
   "version": "3.9.13"
  },
  "vscode": {
   "interpreter": {
    "hash": "5238573367df39f7286bb46f9ff5f08f63a01a80960060ce41e3c79b190280fa"
   }
  }
 },
 "nbformat": 4,
 "nbformat_minor": 2
}
